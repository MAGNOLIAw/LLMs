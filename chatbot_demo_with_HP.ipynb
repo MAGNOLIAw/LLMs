{
 "cells": [
  {
   "cell_type": "markdown",
   "id": "abbe1a4f-bad6-4653-84da-819c0ee35114",
   "metadata": {},
   "source": [
    "# Import libiaries"
   ]
  },
  {
   "cell_type": "code",
   "execution_count": 1,
   "id": "6ab5f816-3f2f-4b89-b437-af072ff49928",
   "metadata": {},
   "outputs": [
    {
     "name": "stdout",
     "output_type": "stream",
     "text": [
      "CPU times: user 11.2 s, sys: 648 ms, total: 11.8 s\n",
      "Wall time: 4.18 s\n"
     ]
    }
   ],
   "source": [
    "%%time\n",
    "from IPython.display import clear_output\n",
    "# Suppress warnings for cleaner output\n",
    "import warnings\n",
    "warnings.filterwarnings(\"ignore\")\n",
    "\n",
    "# Standard library imports\n",
    "import os          # File system operations\n",
    "import glob        # File path pattern matching\n",
    "import textwrap    # Text formatting utilities\n",
    "import time        # Time-related functions\n",
    "import pathlib\n",
    "from typing import Tuple\n",
    "\n",
    "# LangChain imports\n",
    "import langchain\n",
    "### loaders\n",
    "from langchain.document_loaders import PyPDFLoader, DirectoryLoader   # For loading PDF files and directories of docs\n",
    "### splits\n",
    "from langchain.text_splitter import RecursiveCharacterTextSplitter    # For splitting documents into smaller chunks\n",
    "### prompts\n",
    "from langchain import PromptTemplate, LLMChain                        # For defining prompts and chaining LLM calls\n",
    "### vector stores\n",
    "from langchain.vectorstores import FAISS                              # FAISS vector store for similarity search\n",
    "### models\n",
    "from langchain.llms import HuggingFacePipeline                        # Use HuggingFace models as LLMs\n",
    "from langchain.embeddings import HuggingFaceEmbeddings        # Generate embeddings with HuggingFace models\n",
    "### retrievers\n",
    "from langchain.chains import RetrievalQA                              # Retrieval-based QA chain\n",
    "\n",
    "# PyTorch and Transformers imports\n",
    "import torch\n",
    "import transformers\n",
    "from transformers import (\n",
    "    AutoTokenizer,            # Tokenizer for preprocessing text\n",
    "    AutoModelForCausalLM,     # Causal language model (decoder-only LM)\n",
    "    BitsAndBytesConfig,       # Quantization config for efficient inference\n",
    "    pipeline                  # High-level HuggingFace pipeline API\n",
    ")\n",
    "\n",
    "# Clear previous output (likely for notebook use)\n",
    "# clear_output()\n"
   ]
  },
  {
   "cell_type": "code",
   "execution_count": 2,
   "id": "633e01c8-8d6c-4ee6-880b-1e48d1c2c8d7",
   "metadata": {},
   "outputs": [
    {
     "name": "stdout",
     "output_type": "stream",
     "text": [
      "python: 3.11.13 (main, Jun  5 2025, 13:12:00) [GCC 11.2.0]\n",
      "torch: 12.8\n",
      "torch available: True\n",
      "langchain: 0.3.27\n",
      "torch: 2.8.0+cu128\n",
      "transformers: 4.55.4\n"
     ]
    }
   ],
   "source": [
    "import sys\n",
    "print(\"python:\", sys.version)\n",
    "print(\"torch:\", torch.version.cuda)\n",
    "print(\"torch available:\", torch.cuda.is_available())\n",
    "\n",
    "print('langchain:', langchain.__version__)   \n",
    "print('torch:', torch.__version__)          \n",
    "print('transformers:', transformers.__version__) "
   ]
  },
  {
   "cell_type": "code",
   "execution_count": 3,
   "id": "9274a20b-7ba1-41f6-a675-0200051fa554",
   "metadata": {},
   "outputs": [],
   "source": [
    "import glob"
   ]
  },
  {
   "cell_type": "code",
   "execution_count": 4,
   "id": "9d14b651-da74-4dce-a5bd-23b0d8e07dca",
   "metadata": {},
   "outputs": [
    {
     "name": "stdout",
     "output_type": "stream",
     "text": [
      "[\"input/harry-potter-books-in-pdf-1-7/01 Harry Potter and the Philosopher's Stone - J.K. Rowling.pdf\", 'input/harry-potter-books-in-pdf-1-7/02 Harry Potter and the Chamber of Secrets - J.K. Rowling.pdf', 'input/harry-potter-books-in-pdf-1-7/03 Harry Potter and the Prisoner of Azkaban - J.K. Rowling.pdf', 'input/harry-potter-books-in-pdf-1-7/04 Harry Potter and the Goblet of Fire - J.K. Rowling.pdf', 'input/harry-potter-books-in-pdf-1-7/05 Harry Potter and the Order of the Phoeni - J.K. Rowling.pdf', 'input/harry-potter-books-in-pdf-1-7/06 Harry Potter and the Half-Blood Prince - J.K. Rowling.pdf', 'input/harry-potter-books-in-pdf-1-7/07 Harry Potter and the Deathly Hallows - J.K. Rowling.pdf']\n"
     ]
    }
   ],
   "source": [
    "# glob.glob() returns all matching file paths\n",
    "# sorted() ensures the files are in a consistent order (e.g., HP1, HP2, HP3...)\n",
    "d = sorted(glob.glob('input/harry-potter-books-in-pdf-1-7/*'))\n",
    "print(d)"
   ]
  },
  {
   "cell_type": "markdown",
   "id": "305acf16-67dd-4583-9242-089564b10906",
   "metadata": {},
   "source": [
    "# Config"
   ]
  },
  {
   "cell_type": "code",
   "execution_count": 5,
   "id": "bccb3c5f-4021-4188-bcfa-f2013e6c6cf2",
   "metadata": {},
   "outputs": [],
   "source": [
    "class CFG:\n",
    "    # ==========================\n",
    "    # Model Configuration\n",
    "    # ==========================\n",
    "    # Name of the LLM model to use (from Hugging Face model repo or local)\n",
    "    model_name = 'llama2-13b-chat'  \n",
    "    # Options: wizardlm, llama2-7b-chat, llama2-13b-chat, mistral-7B, etc.\n",
    "\n",
    "    # Controls randomness of generation: 0 = deterministic, higher = more random\n",
    "    temperature = 0.1\n",
    "\n",
    "    # Nucleus sampling probability threshold (top-p sampling)\n",
    "    top_p = 0.95  \n",
    "\n",
    "    # Penalize repetition of tokens to encourage diversity\n",
    "    repetition_penalty = 1.15  \n",
    "\n",
    "    # ==========================\n",
    "    # Document Splitting\n",
    "    # ==========================\n",
    "    # Maximum size of text chunks to split input documents\n",
    "    split_chunk_size = 800  \n",
    "\n",
    "    # Overlap between consecutive text chunks (for context continuity)\n",
    "    split_overlap = 0  \n",
    "\n",
    "    # ==========================\n",
    "    # Embeddings & Retrieval\n",
    "    # ==========================\n",
    "    # Embedding model to use for vectorization (from Hugging Face)\n",
    "    embeddings_model_repo = 'sentence-transformers/all-MiniLM-L6-v2'  \n",
    "\n",
    "    # Number of nearest neighbors to retrieve during similarity search\n",
    "    k = 6  \n",
    "\n",
    "    # ==========================\n",
    "    # Paths\n",
    "    # ==========================\n",
    "    # Path to input PDF documents (Harry Potter books here as an example)\n",
    "    PDFs_path = './input/harry-potter-books-in-pdf-1-7/'  \n",
    "\n",
    "    # Path where the FAISS embedding index will be stored or loaded from\n",
    "    Embeddings_path = './input/faiss-hp-sentence-transformers'  \n",
    "\n",
    "    # Folder where the final vector database output will be saved\n",
    "    Output_folder = './harry-potter-vectordb'\n",
    "\n",
    "    # 所有模型会保存在这个根目录下的子目录里（按仓库名）\n",
    "    model_store_dir = './models'   # 改成你想放的磁盘路径，如 '/data/llm_models'\n",
    "    # 若本地已存在同名目录，则强制只用本地文件加载（不访问网络）\n",
    "    force_local = False\n"
   ]
  },
  {
   "cell_type": "markdown",
   "id": "c1f29593-0b1f-4cb2-8149-8df5555a4e26",
   "metadata": {},
   "source": [
    "# Define model"
   ]
  },
  {
   "cell_type": "code",
   "execution_count": 6,
   "id": "8bdd2664-a8ff-4306-8fa7-4ec0ec037088",
   "metadata": {},
   "outputs": [],
   "source": [
    "MODEL_ALIASES = {\n",
    "    \"wizardlm\": \"TheBloke/wizardLM-7B-HF\",\n",
    "    \"llama2-7b-chat\": \"daryl149/llama-2-7b-chat-hf\",\n",
    "    \"llama2-13b-chat\": \"daryl149/llama-2-13b-chat-hf\",\n",
    "    \"mistral-7B\": \"mistralai/Mistral-7B-v0.1\",\n",
    "}\n",
    "\n",
    "def make_bnb_config() -> BitsAndBytesConfig:\n",
    "    # Common 4-bit quantization configuration (bnb/nf4, fp16 compute)\n",
    "    return BitsAndBytesConfig(\n",
    "        load_in_4bit=True,\n",
    "        bnb_4bit_quant_type=\"nf4\",\n",
    "        bnb_4bit_compute_dtype=torch.float16,\n",
    "        bnb_4bit_use_double_quant=True\n",
    "    )\n",
    "\n",
    "def repo_to_local_dir(model_repo: str, root: str) -> str:\n",
    "    \"\"\"\n",
    "    Convert HF repo name to a safe local dir path under `root`.\n",
    "    e.g., 'daryl149/llama-2-13b-chat-hf' -> './models/daryl149__llama-2-13b-chat-hf'\n",
    "    \"\"\"\n",
    "    safe = model_repo.replace('/', '__')\n",
    "    return os.path.join(root, safe)\n",
    "\n",
    "def ensure_dir(path: str):\n",
    "    pathlib.Path(path).mkdir(parents=True, exist_ok=True)"
   ]
  },
  {
   "cell_type": "code",
   "execution_count": 7,
   "id": "3fb66c3f-de55-4f98-a7c2-fce0baba76f1",
   "metadata": {},
   "outputs": [],
   "source": [
    "def get_model(model: str) -> Tuple[\"AutoTokenizer\", \"AutoModelForCausalLM\", int]:\n",
    "    \"\"\"\n",
    "    Download (if needed), load and configure a specific LLM from Hugging Face.\n",
    "    Also saves tokenizer & model locally for future offline use.\n",
    "\n",
    "    Returns:\n",
    "        tokenizer, model, max_len\n",
    "    \"\"\"\n",
    "    if model not in MODEL_ALIASES:\n",
    "        raise ValueError(f\"Unknown model key: {model}. \"\n",
    "                         f\"Valid: {list(MODEL_ALIASES.keys())}\")\n",
    "\n",
    "    model_repo = MODEL_ALIASES[model]\n",
    "    local_dir = repo_to_local_dir(model_repo, CFG.model_store_dir)\n",
    "    ensure_dir(CFG.model_store_dir)\n",
    "\n",
    "    use_local_only = CFG.force_local and os.path.isdir(local_dir) and any(os.scandir(local_dir))\n",
    "    print(f\"\\nTarget model: {model} -> {model_repo}\")\n",
    "    print(f\"Local store:  {local_dir}\")\n",
    "    print(f\"Load policy:  {'local ONLY' if use_local_only else 'download if missing'}\\n\")\n",
    "\n",
    "    bnb_config = make_bnb_config()\n",
    "\n",
    "    # --------------------------\n",
    "    # Load tokenizer\n",
    "    # --------------------------\n",
    "    if use_local_only:\n",
    "        tokenizer = AutoTokenizer.from_pretrained(local_dir, use_fast=True, local_files_only=True)\n",
    "    else:\n",
    "        tokenizer = AutoTokenizer.from_pretrained(model_repo, use_fast=True)\n",
    "\n",
    "    # --------------------------\n",
    "    # Load model (4-bit)\n",
    "    # --------------------------\n",
    "    try:\n",
    "        if use_local_only:\n",
    "            model_obj = AutoModelForCausalLM.from_pretrained(\n",
    "                local_dir,\n",
    "                quantization_config=bnb_config,\n",
    "                device_map=\"auto\",\n",
    "                low_cpu_mem_usage=True,\n",
    "                local_files_only=True,\n",
    "                trust_remote_code=True\n",
    "            )\n",
    "        else:\n",
    "            model_obj = AutoModelForCausalLM.from_pretrained(\n",
    "                model_repo,\n",
    "                quantization_config=bnb_config,\n",
    "                device_map=\"auto\",\n",
    "                low_cpu_mem_usage=True,\n",
    "                trust_remote_code=True\n",
    "            )\n",
    "    except Exception as e:\n",
    "        # 常见：bitsandbytes 未安装或 CUDA 版本不匹配\n",
    "        raise RuntimeError(\n",
    "            \"Failed to load model (4-bit). \"\n",
    "            \"If this is a bitsandbytes / CUDA issue, try:\\n\"\n",
    "            \"  pip install --upgrade pip\\n\"\n",
    "            \"  pip install bitsandbytes\\n\"\n",
    "            \"并确保 CUDA 与 PyTorch 匹配。原始错误：\\n\" + str(e)\n",
    "        )\n",
    "\n",
    "    # --------------------------\n",
    "    # Decide max_len by family\n",
    "    # --------------------------\n",
    "    if model == \"wizardlm\":\n",
    "        max_len = 1024\n",
    "    elif model == \"llama2-7b-chat\":\n",
    "        max_len = 2048\n",
    "    elif model == \"llama2-13b-chat\":\n",
    "        max_len = 2048\n",
    "    elif model == \"mistral-7B\":\n",
    "        max_len = 1024\n",
    "    else:\n",
    "        max_len = 2048\n",
    "\n",
    "    # --------------------------\n",
    "    # Auto-save to local_dir (if just downloaded)\n",
    "    # --------------------------\n",
    "    if not use_local_only:\n",
    "        ensure_dir(local_dir)\n",
    "        try:\n",
    "            # 保存量化后的权重配置与 tokenizer。下次即可离线从 local_dir 加载。\n",
    "            tokenizer.save_pretrained(local_dir)\n",
    "            model_obj.save_pretrained(local_dir)\n",
    "            print(f\"[Saved] tokenizer & model to: {local_dir}\")\n",
    "        except Exception as e:\n",
    "            print(f\"[Warn] Failed to save to {local_dir}: {e}\")\n",
    "\n",
    "    return tokenizer, model_obj, max_len\n"
   ]
  },
  {
   "cell_type": "code",
   "execution_count": 8,
   "id": "f76c96af-e88c-4ad0-a315-cf9294dc91d7",
   "metadata": {},
   "outputs": [
    {
     "name": "stdout",
     "output_type": "stream",
     "text": [
      "Loading tokenizer + model in 4-bit…\n",
      "\n",
      "Target model: llama2-13b-chat -> daryl149/llama-2-13b-chat-hf\n",
      "Local store:  ./models/daryl149__llama-2-13b-chat-hf\n",
      "Load policy:  download if missing\n",
      "\n"
     ]
    },
    {
     "name": "stderr",
     "output_type": "stream",
     "text": [
      "You are using the default legacy behaviour of the <class 'transformers.models.llama.tokenization_llama_fast.LlamaTokenizerFast'>. This is expected, and simply means that the `legacy` (previous) behavior will be used so nothing changes for you. If you want to use the new behaviour, set `legacy=False`. This should only be set if you understand what it means, and thoroughly read the reason why this was added as explained in https://github.com/huggingface/transformers/pull/24565 - if you loaded a llama tokenizer from a GGUF file you can ignore this message.\n",
      "Loading checkpoint shards: 100%|█████████████████████████████████████████████████████████████████| 3/3 [00:05<00:00,  1.78s/it]\n"
     ]
    },
    {
     "name": "stdout",
     "output_type": "stream",
     "text": [
      "[Saved] tokenizer & model to: ./models/daryl149__llama-2-13b-chat-hf\n",
      "Loaded model: llama2-13b-chat | recommended max_len=2048\n",
      "CPU times: user 5.77 s, sys: 13.5 s, total: 19.2 s\n",
      "Wall time: 33.1 s\n"
     ]
    }
   ],
   "source": [
    "%%time\n",
    "print(\"Loading tokenizer + model in 4-bit…\")\n",
    "tokenizer, model, max_len = get_model(CFG.model_name)\n",
    "print(f\"Loaded model: {CFG.model_name} | recommended max_len={max_len}\")"
   ]
  },
  {
   "cell_type": "code",
   "execution_count": 9,
   "id": "74e18f2c-32c3-41ae-96ac-dbe535972e45",
   "metadata": {},
   "outputs": [
    {
     "data": {
      "text/plain": [
       "LlamaForCausalLM(\n",
       "  (model): LlamaModel(\n",
       "    (embed_tokens): Embedding(32000, 5120, padding_idx=0)\n",
       "    (layers): ModuleList(\n",
       "      (0-39): 40 x LlamaDecoderLayer(\n",
       "        (self_attn): LlamaAttention(\n",
       "          (q_proj): Linear4bit(in_features=5120, out_features=5120, bias=False)\n",
       "          (k_proj): Linear4bit(in_features=5120, out_features=5120, bias=False)\n",
       "          (v_proj): Linear4bit(in_features=5120, out_features=5120, bias=False)\n",
       "          (o_proj): Linear4bit(in_features=5120, out_features=5120, bias=False)\n",
       "        )\n",
       "        (mlp): LlamaMLP(\n",
       "          (gate_proj): Linear4bit(in_features=5120, out_features=13824, bias=False)\n",
       "          (up_proj): Linear4bit(in_features=5120, out_features=13824, bias=False)\n",
       "          (down_proj): Linear4bit(in_features=13824, out_features=5120, bias=False)\n",
       "          (act_fn): SiLU()\n",
       "        )\n",
       "        (input_layernorm): LlamaRMSNorm((5120,), eps=1e-05)\n",
       "        (post_attention_layernorm): LlamaRMSNorm((5120,), eps=1e-05)\n",
       "      )\n",
       "    )\n",
       "    (norm): LlamaRMSNorm((5120,), eps=1e-05)\n",
       "    (rotary_emb): LlamaRotaryEmbedding()\n",
       "  )\n",
       "  (lm_head): Linear(in_features=5120, out_features=32000, bias=False)\n",
       ")"
      ]
     },
     "execution_count": 9,
     "metadata": {},
     "output_type": "execute_result"
    }
   ],
   "source": [
    "model.eval()"
   ]
  },
  {
   "cell_type": "code",
   "execution_count": 10,
   "id": "9fc18676-7caa-4a9d-a779-07cb42d35376",
   "metadata": {},
   "outputs": [
    {
     "data": {
      "text/plain": [
       "{'model.embed_tokens': 0,\n",
       " 'model.layers.0': 0,\n",
       " 'model.layers.1': 0,\n",
       " 'model.layers.2': 0,\n",
       " 'model.layers.3': 0,\n",
       " 'model.layers.4': 0,\n",
       " 'model.layers.5': 0,\n",
       " 'model.layers.6': 0,\n",
       " 'model.layers.7': 0,\n",
       " 'model.layers.8': 0,\n",
       " 'model.layers.9': 0,\n",
       " 'model.layers.10': 0,\n",
       " 'model.layers.11': 0,\n",
       " 'model.layers.12': 0,\n",
       " 'model.layers.13': 0,\n",
       " 'model.layers.14': 0,\n",
       " 'model.layers.15': 0,\n",
       " 'model.layers.16': 0,\n",
       " 'model.layers.17': 1,\n",
       " 'model.layers.18': 1,\n",
       " 'model.layers.19': 1,\n",
       " 'model.layers.20': 1,\n",
       " 'model.layers.21': 1,\n",
       " 'model.layers.22': 1,\n",
       " 'model.layers.23': 1,\n",
       " 'model.layers.24': 1,\n",
       " 'model.layers.25': 1,\n",
       " 'model.layers.26': 1,\n",
       " 'model.layers.27': 1,\n",
       " 'model.layers.28': 1,\n",
       " 'model.layers.29': 1,\n",
       " 'model.layers.30': 1,\n",
       " 'model.layers.31': 1,\n",
       " 'model.layers.32': 1,\n",
       " 'model.layers.33': 1,\n",
       " 'model.layers.34': 1,\n",
       " 'model.layers.35': 1,\n",
       " 'model.layers.36': 1,\n",
       " 'model.layers.37': 1,\n",
       " 'model.layers.38': 1,\n",
       " 'model.layers.39': 1,\n",
       " 'model.norm': 1,\n",
       " 'model.rotary_emb': 1,\n",
       " 'lm_head': 1}"
      ]
     },
     "execution_count": 10,
     "metadata": {},
     "output_type": "execute_result"
    }
   ],
   "source": [
    "model.hf_device_map"
   ]
  },
  {
   "cell_type": "markdown",
   "id": "2e6ebfa1-8451-4393-939d-bcadd9c59ca5",
   "metadata": {},
   "source": [
    "# 🤗 Hugging Face Pipeline"
   ]
  },
  {
   "cell_type": "code",
   "execution_count": 11,
   "id": "761ad749-42ae-4ed2-8743-41f536d37618",
   "metadata": {},
   "outputs": [
    {
     "name": "stderr",
     "output_type": "stream",
     "text": [
      "Device set to use cuda:0\n",
      "/tmp/ipykernel_16253/3701774233.py:18: LangChainDeprecationWarning: The class `HuggingFacePipeline` was deprecated in LangChain 0.0.37 and will be removed in 1.0. An updated version of the class exists in the :class:`~langchain-huggingface package and should be used instead. To use it run `pip install -U :class:`~langchain-huggingface` and import as `from :class:`~langchain_huggingface import HuggingFacePipeline``.\n",
      "  llm = HuggingFacePipeline(pipeline=pipe)\n"
     ]
    },
    {
     "data": {
      "text/plain": [
       "HuggingFacePipeline(pipeline=<transformers.pipelines.text_generation.TextGenerationPipeline object at 0x7fd4b9997490>)"
      ]
     },
     "execution_count": 11,
     "metadata": {},
     "output_type": "execute_result"
    }
   ],
   "source": [
    "# Create a Hugging Face text-generation pipeline\n",
    "pipe = pipeline(\n",
    "    task=\"text-generation\",       # Define the task type (here: text generation)\n",
    "    model=model,                  # The model to be used\n",
    "    tokenizer=tokenizer,          # Tokenizer for input/output processing\n",
    "    pad_token_id=tokenizer.eos_token_id,  # Padding token (usually EOS token)\n",
    "    \n",
    "    # do_sample=True,             # (Optional) Enable sampling instead of greedy decoding\n",
    "    \n",
    "    max_length=max_len,           # Maximum length of generated sequence\n",
    "    temperature=CFG.temperature,  # Controls randomness: higher = more random output\n",
    "    top_p=CFG.top_p,              # Nucleus sampling threshold\n",
    "    repetition_penalty=CFG.repetition_penalty,  # Penalize repeated tokens\n",
    "    device_map=\"auto\"   # 让 pipeline 和模型对齐，自动分配多卡\n",
    ")\n",
    "\n",
    "# Wrap the Hugging Face pipeline in LangChain for integration\n",
    "llm = HuggingFacePipeline(pipeline=pipe)\n",
    "\n",
    "# The `llm` object can now be used for text generation within LangChain\n",
    "llm"
   ]
  },
  {
   "cell_type": "code",
   "execution_count": 12,
   "id": "6f613231-8542-4cbb-833b-20a91cae579d",
   "metadata": {},
   "outputs": [
    {
     "name": "stdout",
     "output_type": "stream",
     "text": [
      "CPU times: user 18.3 s, sys: 97.4 ms, total: 18.4 s\n",
      "Wall time: 18.8 s\n"
     ]
    },
    {
     "data": {
      "text/plain": [
       "\"Give me 5 examples of cool potions and explain what they do.\\n\\nSure, here are five examples of cool potions that you might find in a fantasy story:\\n\\n1. The Elixir of Eternal Youth: This potion grants the drinker eternal youth, keeping them looking and feeling like they did in their prime for as long as they live. However, it also comes with a catch - the drinker must consume the elixir every year on their birthday, or else they will begin to age rapidly and lose all of the benefits.\\n2. The Potion of Healing: This potion can cure any wound or illness, no matter how severe. It works by drawing out the poison or injury from the drinker's body and replacing it with pure, healing energy. However, the potion can only be used once per day, and it leaves the drinker feeling drained and weak afterward.\\n3. The Draught of Dreams: This potion allows the drinker to enter into a deep, lucid dream state, where they can explore their subconscious mind and unlock hidden secrets about themselves and the world around them. However, the potion can be addictive, and long-term use can lead to a blurring of the lines between reality and dreams.\\n4. The Tincture of Transformation: This potion allows the drinker to change their physical form at will, shifting into any creature or object they desire. However, the transformation is temporary, and the drinker must consume more of the potion to maintain their new form. Additionally, the potion can have unpredictable side effects, such as causing the drinker to grow extra limbs or change their voice to sound like a completely different person.\\n5. The Brew of Becoming: This potion allows the drinker to take on the abilities and memories of another person or creature, effectively becoming that being for a short period of time. However, the potion can be dangerous if used carelessly, as it can cause the drinker to become trapped in the other person's consciousness and lose their own identity.\""
      ]
     },
     "execution_count": 12,
     "metadata": {},
     "output_type": "execute_result"
    }
   ],
   "source": [
    "%%time  \n",
    "\n",
    "# Define the query string to send to the language model\n",
    "query = \"Give me 5 examples of cool potions and explain what they do\"\n",
    "\n",
    "# Invoke the HuggingFacePipeline (llm) with the query\n",
    "llm.invoke(query)"
   ]
  },
  {
   "cell_type": "markdown",
   "id": "5f7f1349-6bcc-4b67-922a-d88c7981a07e",
   "metadata": {},
   "source": [
    "# Langchain"
   ]
  },
  {
   "cell_type": "markdown",
   "id": "a443edf6-2666-4236-b483-da9b62302882",
   "metadata": {},
   "source": [
    "## 1. Load multiple PDFs"
   ]
  },
  {
   "cell_type": "code",
   "execution_count": 385,
   "id": "637baa2e-2994-4ced-bea1-14051768f38c",
   "metadata": {},
   "outputs": [
    {
     "name": "stderr",
     "output_type": "stream",
     "text": [
      "  0%|                                                                                                    | 0/7 [00:00<?, ?it/s]"
     ]
    },
    {
     "ename": "KeyboardInterrupt",
     "evalue": "",
     "output_type": "error",
     "traceback": [
      "\u001b[31m---------------------------------------------------------------------------\u001b[39m",
      "\u001b[31mKeyboardInterrupt\u001b[39m                         Traceback (most recent call last)",
      "\u001b[36mFile \u001b[39m\u001b[32m~/miniconda3/envs/llmdemo/lib/python3.11/site-packages/langchain_community/document_loaders/directory.py:190\u001b[39m, in \u001b[36mDirectoryLoader.lazy_load\u001b[39m\u001b[34m(self)\u001b[39m\n\u001b[32m    182\u001b[39m     futures.append(\n\u001b[32m    183\u001b[39m         executor.submit(\n\u001b[32m    184\u001b[39m             \u001b[38;5;28mself\u001b[39m._lazy_load_file_to_non_generator(\u001b[38;5;28mself\u001b[39m._lazy_load_file),\n\u001b[32m   (...)\u001b[39m\u001b[32m    188\u001b[39m         )\n\u001b[32m    189\u001b[39m     )\n\u001b[32m--> \u001b[39m\u001b[32m190\u001b[39m \u001b[43m\u001b[49m\u001b[38;5;28;43;01mfor\u001b[39;49;00m\u001b[43m \u001b[49m\u001b[43mfuture\u001b[49m\u001b[43m \u001b[49m\u001b[38;5;129;43;01min\u001b[39;49;00m\u001b[43m \u001b[49m\u001b[43mconcurrent\u001b[49m\u001b[43m.\u001b[49m\u001b[43mfutures\u001b[49m\u001b[43m.\u001b[49m\u001b[43mas_completed\u001b[49m\u001b[43m(\u001b[49m\u001b[43mfutures\u001b[49m\u001b[43m)\u001b[49m\u001b[43m:\u001b[49m\n\u001b[32m    191\u001b[39m \u001b[43m    \u001b[49m\u001b[38;5;28;43;01mfor\u001b[39;49;00m\u001b[43m \u001b[49m\u001b[43mitem\u001b[49m\u001b[43m \u001b[49m\u001b[38;5;129;43;01min\u001b[39;49;00m\u001b[43m \u001b[49m\u001b[43mfuture\u001b[49m\u001b[43m.\u001b[49m\u001b[43mresult\u001b[49m\u001b[43m(\u001b[49m\u001b[43m)\u001b[49m\u001b[43m:\u001b[49m\n",
      "\u001b[36mFile \u001b[39m\u001b[32m~/miniconda3/envs/llmdemo/lib/python3.11/concurrent/futures/_base.py:243\u001b[39m, in \u001b[36mas_completed\u001b[39m\u001b[34m(fs, timeout)\u001b[39m\n\u001b[32m    239\u001b[39m         \u001b[38;5;28;01mraise\u001b[39;00m \u001b[38;5;167;01mTimeoutError\u001b[39;00m(\n\u001b[32m    240\u001b[39m                 \u001b[33m'\u001b[39m\u001b[38;5;132;01m%d\u001b[39;00m\u001b[33m (of \u001b[39m\u001b[38;5;132;01m%d\u001b[39;00m\u001b[33m) futures unfinished\u001b[39m\u001b[33m'\u001b[39m % (\n\u001b[32m    241\u001b[39m                 \u001b[38;5;28mlen\u001b[39m(pending), total_futures))\n\u001b[32m--> \u001b[39m\u001b[32m243\u001b[39m \u001b[43mwaiter\u001b[49m\u001b[43m.\u001b[49m\u001b[43mevent\u001b[49m\u001b[43m.\u001b[49m\u001b[43mwait\u001b[49m\u001b[43m(\u001b[49m\u001b[43mwait_timeout\u001b[49m\u001b[43m)\u001b[49m\n\u001b[32m    245\u001b[39m \u001b[38;5;28;01mwith\u001b[39;00m waiter.lock:\n",
      "\u001b[36mFile \u001b[39m\u001b[32m~/miniconda3/envs/llmdemo/lib/python3.11/threading.py:629\u001b[39m, in \u001b[36mEvent.wait\u001b[39m\u001b[34m(self, timeout)\u001b[39m\n\u001b[32m    628\u001b[39m \u001b[38;5;28;01mif\u001b[39;00m \u001b[38;5;129;01mnot\u001b[39;00m signaled:\n\u001b[32m--> \u001b[39m\u001b[32m629\u001b[39m     signaled = \u001b[38;5;28;43mself\u001b[39;49m\u001b[43m.\u001b[49m\u001b[43m_cond\u001b[49m\u001b[43m.\u001b[49m\u001b[43mwait\u001b[49m\u001b[43m(\u001b[49m\u001b[43mtimeout\u001b[49m\u001b[43m)\u001b[49m\n\u001b[32m    630\u001b[39m \u001b[38;5;28;01mreturn\u001b[39;00m signaled\n",
      "\u001b[36mFile \u001b[39m\u001b[32m~/miniconda3/envs/llmdemo/lib/python3.11/threading.py:327\u001b[39m, in \u001b[36mCondition.wait\u001b[39m\u001b[34m(self, timeout)\u001b[39m\n\u001b[32m    326\u001b[39m \u001b[38;5;28;01mif\u001b[39;00m timeout \u001b[38;5;129;01mis\u001b[39;00m \u001b[38;5;28;01mNone\u001b[39;00m:\n\u001b[32m--> \u001b[39m\u001b[32m327\u001b[39m     \u001b[43mwaiter\u001b[49m\u001b[43m.\u001b[49m\u001b[43macquire\u001b[49m\u001b[43m(\u001b[49m\u001b[43m)\u001b[49m\n\u001b[32m    328\u001b[39m     gotit = \u001b[38;5;28;01mTrue\u001b[39;00m\n",
      "\u001b[31mKeyboardInterrupt\u001b[39m: ",
      "\nDuring handling of the above exception, another exception occurred:\n",
      "\u001b[31mKeyboardInterrupt\u001b[39m                         Traceback (most recent call last)",
      "\u001b[36mCell\u001b[39m\u001b[36m \u001b[39m\u001b[32mIn[385]\u001b[39m\u001b[32m, line 11\u001b[39m\n\u001b[32m      2\u001b[39m loader = DirectoryLoader(\n\u001b[32m      3\u001b[39m     CFG.PDFs_path,             \u001b[38;5;66;03m# Path to the directory containing PDF files\u001b[39;00m\n\u001b[32m      4\u001b[39m     glob=\u001b[33m\"\u001b[39m\u001b[33m./*.pdf\u001b[39m\u001b[33m\"\u001b[39m,            \u001b[38;5;66;03m# File pattern to match (here: all PDF files)\u001b[39;00m\n\u001b[32m   (...)\u001b[39m\u001b[32m      7\u001b[39m     use_multithreading=\u001b[38;5;28;01mTrue\u001b[39;00m    \u001b[38;5;66;03m# Enable multi-threading for faster loading\u001b[39;00m\n\u001b[32m      8\u001b[39m )\n\u001b[32m     10\u001b[39m \u001b[38;5;66;03m# Load the documents into memory\u001b[39;00m\n\u001b[32m---> \u001b[39m\u001b[32m11\u001b[39m documents = \u001b[43mloader\u001b[49m\u001b[43m.\u001b[49m\u001b[43mload\u001b[49m\u001b[43m(\u001b[49m\u001b[43m)\u001b[49m\n",
      "\u001b[36mFile \u001b[39m\u001b[32m~/miniconda3/envs/llmdemo/lib/python3.11/site-packages/langchain_community/document_loaders/directory.py:117\u001b[39m, in \u001b[36mDirectoryLoader.load\u001b[39m\u001b[34m(self)\u001b[39m\n\u001b[32m    115\u001b[39m \u001b[38;5;28;01mdef\u001b[39;00m\u001b[38;5;250m \u001b[39m\u001b[34mload\u001b[39m(\u001b[38;5;28mself\u001b[39m) -> List[Document]:\n\u001b[32m    116\u001b[39m \u001b[38;5;250m    \u001b[39m\u001b[33;03m\"\"\"Load documents.\"\"\"\u001b[39;00m\n\u001b[32m--> \u001b[39m\u001b[32m117\u001b[39m     \u001b[38;5;28;01mreturn\u001b[39;00m \u001b[38;5;28;43mlist\u001b[39;49m\u001b[43m(\u001b[49m\u001b[38;5;28;43mself\u001b[39;49m\u001b[43m.\u001b[49m\u001b[43mlazy_load\u001b[49m\u001b[43m(\u001b[49m\u001b[43m)\u001b[49m\u001b[43m)\u001b[49m\n",
      "\u001b[36mFile \u001b[39m\u001b[32m~/miniconda3/envs/llmdemo/lib/python3.11/site-packages/langchain_community/document_loaders/directory.py:178\u001b[39m, in \u001b[36mDirectoryLoader.lazy_load\u001b[39m\u001b[34m(self)\u001b[39m\n\u001b[32m    176\u001b[39m \u001b[38;5;28;01mif\u001b[39;00m \u001b[38;5;28mself\u001b[39m.use_multithreading:\n\u001b[32m    177\u001b[39m     futures = []\n\u001b[32m--> \u001b[39m\u001b[32m178\u001b[39m \u001b[43m    \u001b[49m\u001b[38;5;28;43;01mwith\u001b[39;49;00m\u001b[43m \u001b[49m\u001b[43mconcurrent\u001b[49m\u001b[43m.\u001b[49m\u001b[43mfutures\u001b[49m\u001b[43m.\u001b[49m\u001b[43mThreadPoolExecutor\u001b[49m\u001b[43m(\u001b[49m\n\u001b[32m    179\u001b[39m \u001b[43m        \u001b[49m\u001b[43mmax_workers\u001b[49m\u001b[43m=\u001b[49m\u001b[38;5;28;43mself\u001b[39;49m\u001b[43m.\u001b[49m\u001b[43mmax_concurrency\u001b[49m\n\u001b[32m    180\u001b[39m \u001b[43m    \u001b[49m\u001b[43m)\u001b[49m\u001b[43m \u001b[49m\u001b[38;5;28;43;01mas\u001b[39;49;00m\u001b[43m \u001b[49m\u001b[43mexecutor\u001b[49m\u001b[43m:\u001b[49m\n\u001b[32m    181\u001b[39m \u001b[43m        \u001b[49m\u001b[38;5;28;43;01mfor\u001b[39;49;00m\u001b[43m \u001b[49m\u001b[43mi\u001b[49m\u001b[43m \u001b[49m\u001b[38;5;129;43;01min\u001b[39;49;00m\u001b[43m \u001b[49m\u001b[43mitems\u001b[49m\u001b[43m:\u001b[49m\n\u001b[32m    182\u001b[39m \u001b[43m            \u001b[49m\u001b[43mfutures\u001b[49m\u001b[43m.\u001b[49m\u001b[43mappend\u001b[49m\u001b[43m(\u001b[49m\n\u001b[32m    183\u001b[39m \u001b[43m                \u001b[49m\u001b[43mexecutor\u001b[49m\u001b[43m.\u001b[49m\u001b[43msubmit\u001b[49m\u001b[43m(\u001b[49m\n\u001b[32m    184\u001b[39m \u001b[43m                    \u001b[49m\u001b[38;5;28;43mself\u001b[39;49m\u001b[43m.\u001b[49m\u001b[43m_lazy_load_file_to_non_generator\u001b[49m\u001b[43m(\u001b[49m\u001b[38;5;28;43mself\u001b[39;49m\u001b[43m.\u001b[49m\u001b[43m_lazy_load_file\u001b[49m\u001b[43m)\u001b[49m\u001b[43m,\u001b[49m\n\u001b[32m   (...)\u001b[39m\u001b[32m    188\u001b[39m \u001b[43m                \u001b[49m\u001b[43m)\u001b[49m\n\u001b[32m    189\u001b[39m \u001b[43m            \u001b[49m\u001b[43m)\u001b[49m\n",
      "\u001b[36mFile \u001b[39m\u001b[32m~/miniconda3/envs/llmdemo/lib/python3.11/concurrent/futures/_base.py:647\u001b[39m, in \u001b[36mExecutor.__exit__\u001b[39m\u001b[34m(self, exc_type, exc_val, exc_tb)\u001b[39m\n\u001b[32m    646\u001b[39m \u001b[38;5;28;01mdef\u001b[39;00m\u001b[38;5;250m \u001b[39m\u001b[34m__exit__\u001b[39m(\u001b[38;5;28mself\u001b[39m, exc_type, exc_val, exc_tb):\n\u001b[32m--> \u001b[39m\u001b[32m647\u001b[39m     \u001b[38;5;28;43mself\u001b[39;49m\u001b[43m.\u001b[49m\u001b[43mshutdown\u001b[49m\u001b[43m(\u001b[49m\u001b[43mwait\u001b[49m\u001b[43m=\u001b[49m\u001b[38;5;28;43;01mTrue\u001b[39;49;00m\u001b[43m)\u001b[49m\n\u001b[32m    648\u001b[39m     \u001b[38;5;28;01mreturn\u001b[39;00m \u001b[38;5;28;01mFalse\u001b[39;00m\n",
      "\u001b[36mFile \u001b[39m\u001b[32m~/miniconda3/envs/llmdemo/lib/python3.11/concurrent/futures/thread.py:235\u001b[39m, in \u001b[36mThreadPoolExecutor.shutdown\u001b[39m\u001b[34m(self, wait, cancel_futures)\u001b[39m\n\u001b[32m    233\u001b[39m \u001b[38;5;28;01mif\u001b[39;00m wait:\n\u001b[32m    234\u001b[39m     \u001b[38;5;28;01mfor\u001b[39;00m t \u001b[38;5;129;01min\u001b[39;00m \u001b[38;5;28mself\u001b[39m._threads:\n\u001b[32m--> \u001b[39m\u001b[32m235\u001b[39m         \u001b[43mt\u001b[49m\u001b[43m.\u001b[49m\u001b[43mjoin\u001b[49m\u001b[43m(\u001b[49m\u001b[43m)\u001b[49m\n",
      "\u001b[36mFile \u001b[39m\u001b[32m~/miniconda3/envs/llmdemo/lib/python3.11/threading.py:1119\u001b[39m, in \u001b[36mThread.join\u001b[39m\u001b[34m(self, timeout)\u001b[39m\n\u001b[32m   1116\u001b[39m     \u001b[38;5;28;01mraise\u001b[39;00m \u001b[38;5;167;01mRuntimeError\u001b[39;00m(\u001b[33m\"\u001b[39m\u001b[33mcannot join current thread\u001b[39m\u001b[33m\"\u001b[39m)\n\u001b[32m   1118\u001b[39m \u001b[38;5;28;01mif\u001b[39;00m timeout \u001b[38;5;129;01mis\u001b[39;00m \u001b[38;5;28;01mNone\u001b[39;00m:\n\u001b[32m-> \u001b[39m\u001b[32m1119\u001b[39m     \u001b[38;5;28;43mself\u001b[39;49m\u001b[43m.\u001b[49m\u001b[43m_wait_for_tstate_lock\u001b[49m\u001b[43m(\u001b[49m\u001b[43m)\u001b[49m\n\u001b[32m   1120\u001b[39m \u001b[38;5;28;01melse\u001b[39;00m:\n\u001b[32m   1121\u001b[39m     \u001b[38;5;66;03m# the behavior of a negative timeout isn't documented, but\u001b[39;00m\n\u001b[32m   1122\u001b[39m     \u001b[38;5;66;03m# historically .join(timeout=x) for x<0 has acted as if timeout=0\u001b[39;00m\n\u001b[32m   1123\u001b[39m     \u001b[38;5;28mself\u001b[39m._wait_for_tstate_lock(timeout=\u001b[38;5;28mmax\u001b[39m(timeout, \u001b[32m0\u001b[39m))\n",
      "\u001b[36mFile \u001b[39m\u001b[32m~/miniconda3/envs/llmdemo/lib/python3.11/threading.py:1139\u001b[39m, in \u001b[36mThread._wait_for_tstate_lock\u001b[39m\u001b[34m(self, block, timeout)\u001b[39m\n\u001b[32m   1136\u001b[39m     \u001b[38;5;28;01mreturn\u001b[39;00m\n\u001b[32m   1138\u001b[39m \u001b[38;5;28;01mtry\u001b[39;00m:\n\u001b[32m-> \u001b[39m\u001b[32m1139\u001b[39m     \u001b[38;5;28;01mif\u001b[39;00m \u001b[43mlock\u001b[49m\u001b[43m.\u001b[49m\u001b[43macquire\u001b[49m\u001b[43m(\u001b[49m\u001b[43mblock\u001b[49m\u001b[43m,\u001b[49m\u001b[43m \u001b[49m\u001b[43mtimeout\u001b[49m\u001b[43m)\u001b[49m:\n\u001b[32m   1140\u001b[39m         lock.release()\n\u001b[32m   1141\u001b[39m         \u001b[38;5;28mself\u001b[39m._stop()\n",
      "\u001b[31mKeyboardInterrupt\u001b[39m: "
     ]
    },
    {
     "name": "stderr",
     "output_type": "stream",
     "text": [
      " 57%|████████████████████████████████████████████████████▌                                       | 4/7 [01:49<01:45, 35.00s/it]"
     ]
    }
   ],
   "source": [
    "# Initialize a DirectoryLoader to load all PDF files from a specified directory\n",
    "loader = DirectoryLoader(\n",
    "    CFG.PDFs_path,             # Path to the directory containing PDF files\n",
    "    glob=\"./*.pdf\",            # File pattern to match (here: all PDF files)\n",
    "    loader_cls=PyPDFLoader,    # Loader class used for PDF processing\n",
    "    show_progress=True,        # Show a progress bar while loading\n",
    "    use_multithreading=True    # Enable multi-threading for faster loading\n",
    ")\n",
    "\n",
    "# Load the documents into memory\n",
    "documents = loader.load()"
   ]
  },
  {
   "cell_type": "code",
   "execution_count": null,
   "id": "910ade54-4b28-4e95-b907-d4feb233f8c2",
   "metadata": {},
   "outputs": [],
   "source": [
    "print(f'{len(documents)} pages in total')\n",
    "documents[6].page_content"
   ]
  },
  {
   "cell_type": "markdown",
   "id": "200474a7-2dcc-4ded-9b62-f1fed6c57045",
   "metadata": {},
   "source": [
    "## 2. Text splitting"
   ]
  },
  {
   "cell_type": "code",
   "execution_count": null,
   "id": "27b3eb2f-3b0e-4a5f-85e5-2abfde7afb15",
   "metadata": {},
   "outputs": [],
   "source": [
    "# from langchain.text_splitter import RecursiveCharacterTextSplitter\n",
    "\n",
    "# Create a text splitter to break long documents into smaller chunks\n",
    "# This helps when creating embeddings since models usually have input size limits\n",
    "text_splitter = RecursiveCharacterTextSplitter(\n",
    "    chunk_size=CFG.split_chunk_size,   # Maximum size of each text chunk\n",
    "    chunk_overlap=CFG.split_overlap    # Overlap size between consecutive chunks\n",
    ")\n",
    "\n",
    "# Split the original documents into smaller chunks\n",
    "texts = text_splitter.split_documents(documents)\n",
    "\n",
    "# Print how many chunks were created from the number of original documents\n",
    "print(f\"We have created {len(texts)} chunks from {len(documents)} pages\")"
   ]
  },
  {
   "cell_type": "code",
   "execution_count": null,
   "id": "0018311c-f1c1-4835-b538-fd6645d779f2",
   "metadata": {},
   "outputs": [],
   "source": [
    "documents[8].page_content"
   ]
  },
  {
   "cell_type": "markdown",
   "id": "2f033eef-cae9-43ef-a1e5-a6e9cdbd0832",
   "metadata": {},
   "source": [
    "## 3. Create Embeddings"
   ]
  },
  {
   "cell_type": "markdown",
   "id": "7869aaa3-d194-4864-8351-e932b90066dd",
   "metadata": {},
   "source": [
    "- [FAISS](https://python.langchain.com/docs/integrations/vectorstores/faiss/) 是一个开源库（Facebook AI Similarity Search），专门用于 高效的相似性搜索（similarity search） 和 密集向量聚类（clustering of dense vectors），适用于从几百万到数十亿的高维向量数据集。"
   ]
  },
  {
   "cell_type": "code",
   "execution_count": null,
   "id": "ded6db6d-1e94-432e-bff2-72f196c1cd6f",
   "metadata": {},
   "outputs": [],
   "source": [
    "# import os\n",
    "# from langchain.vectorstores import FAISS\n",
    "from langchain_community.embeddings import HuggingFaceEmbeddings\n",
    "\n",
    "# Check if FAISS index file already exists\n",
    "if not os.path.exists(CFG.Embeddings_path + \"/index.faiss\"):\n",
    "\n",
    "    # Step 1: Load the HuggingFace embedding model\n",
    "    # This model converts text into numerical embeddings\n",
    "    embeddings = HuggingFaceEmbeddings(\n",
    "        model_name=CFG.embeddings_model_repo,     # The HuggingFace model repo\n",
    "        model_kwargs={\"device\": \"cuda\"}           # Run embeddings on GPU (CUDA)\n",
    "    )\n",
    "\n",
    "    # Step 2: Create vector database (FAISS) from documents\n",
    "    vectordb = FAISS.from_documents(\n",
    "        documents=texts,                          # The text chunks created earlier\n",
    "        embedding=embeddings                      # Embedding model\n",
    "    )\n",
    "\n",
    "    # Step 3: Save the FAISS vector database to disk for later use\n",
    "    vectordb.save_local(f\"{CFG.Output_folder}/faiss_index_hp\")"
   ]
  },
  {
   "cell_type": "markdown",
   "id": "45725f6b-00c3-487d-8a0a-e81c491452b8",
   "metadata": {},
   "source": [
    "## 4. Load vector database"
   ]
  },
  {
   "cell_type": "code",
   "execution_count": null,
   "id": "2c4c337e-6d06-4f57-955d-286e847c6a5f",
   "metadata": {},
   "outputs": [],
   "source": []
  },
  {
   "cell_type": "code",
   "execution_count": 13,
   "id": "fb14c6a0-319a-4f19-956c-9dccf82ddc8f",
   "metadata": {},
   "outputs": [],
   "source": [
    "# Step 1: Initialize the embedding model\n",
    "embeddings = HuggingFaceEmbeddings(\n",
    "    model_name=CFG.embeddings_model_repo,  # 你的模型仓库路径，例如 \"hkunlp/instructor-large\"\n",
    "    model_kwargs={\"device\": \"cuda\"},       # 指定在 GPU 上运行，若不支持 GPU 请设为 \"cpu\"\n",
    ")\n",
    "\n",
    "# Step 2: Load an existing FAISS vector database from disk\n",
    "# 从本地加载之前保存的 FAISS 索引（包括向量数据、文档存储和映射）\n",
    "vectordb = FAISS.load_local(\n",
    "    # CFG.Embeddings_path,\n",
    "    CFG.Output_folder + '/faiss_index_hp',  # 存储向量库的路径，比如文件夹路径\n",
    "    embeddings,             # 加载查询时使用的嵌入模型，必须与创建索引时一致\n",
    "    allow_dangerous_deserialization=True\n",
    ")\n",
    "\n",
    "# Optional: clear the notebook output\n",
    "clear_output()"
   ]
  },
  {
   "cell_type": "code",
   "execution_count": 14,
   "id": "dc84aebb-7cf8-40df-8c82-ef134f40428e",
   "metadata": {},
   "outputs": [
    {
     "data": {
      "text/plain": [
       "[Document(id='9131ac0c-9905-4834-b635-7af1dcf12ad5', metadata={'producer': 'calibre 8.9.0', 'creator': 'calibre 8.9.0', 'creationdate': '2025-08-26T10:02:38+00:00', 'author': 'J.K. Rowling', 'moddate': '2025-08-26T10:02:38+00:00', 'title': 'Harry Potter and the Goblet of Fire', 'source': 'input/harry-potter-books-in-pdf-1-7/04 Harry Potter and the Goblet of Fire - J.K. Rowling.pdf', 'total_pages': 622, 'page': 356, 'page_label': '357'}, page_content='356\\n‘I was attacked by a Hippogriff, and my friend Vincent\\nCrabbe got a bad bite off a Flobberworm,’ says Draco\\nMalfoy, a fourth-year student. ‘We all hate Hagrid, but\\nwe’re just too scared to say anything.’\\nHagrid has no intention of ceasing his campaign of\\nintimidation, however. In conversation with a Daily\\nProphet reporter last month, he admitted breeding\\ncreatures he has dubbed ‘Blast-Ended Skrewts’, highly\\ndangerous crosses between manticores and ﬁre crabs. The\\ncreation of new breeds of magical creature is, of course,\\nan activity usually closely observed by the Department\\nfor the Regulation and Control of Magical Creatures.\\nHagrid, it seems, considers himself to be above such petty\\nrestrictions.\\n‘I was just having some fun,’ he says, before hastily\\nchanging the subject.'),\n",
       " Document(id='95865550-f386-4d57-bcdf-daf87a9c3b96', metadata={'producer': 'calibre 8.9.0', 'creator': 'calibre 8.9.0', 'creationdate': '2025-08-26T10:02:38+00:00', 'author': 'J.K. Rowling', 'moddate': '2025-08-26T10:02:38+00:00', 'title': 'Harry Potter and the Goblet of Fire', 'source': 'input/harry-potter-books-in-pdf-1-7/04 Harry Potter and the Goblet of Fire - J.K. Rowling.pdf', 'total_pages': 622, 'page': 526, 'page_label': '527'}, page_content='the bodies of others. But I dared not go where other humans\\nwere plentiful, for I knew that the Aurors were still abroad and\\nsearching for me. I sometimes inhabited animals – snakes, of\\ncourse, being my preference – but I was little better off inside\\nthem than as pure spirit, for their bodies were ill-adapted to\\nperform magic … and my possession of them shortened their\\nlives; none of them lasted long …\\n‘Then … four years ago … the means for my return seemed\\nassured. A wizard – young, foolish and gullible – wandered\\nacross my path in the forest I had made my home. Oh, he\\nseemed the very chance I had been dreaming of … for he was\\na teacher at Dumbledore’s school … he was easy to bend to'),\n",
       " Document(id='0001ff85-8952-40cc-a93e-95e9f8f74e63', metadata={'producer': 'calibre 8.9.0', 'creator': 'calibre 8.9.0', 'creationdate': '2025-08-26T10:04:09+00:00', 'author': 'J.K. Rowling', 'moddate': '2025-08-26T10:04:09+00:00', 'title': 'Harry Potter and the Prisoner of Azkaban', 'source': 'input/harry-potter-books-in-pdf-1-7/03 Harry Potter and the Prisoner of Azkaban - J.K. Rowling.pdf', 'total_pages': 395, 'page': 102, 'page_label': '103'}, page_content='thread, ‘so … so yeh’ve got yer books an’ … an’ … now yeh\\nneed the Magical Creatures. Yeah. So I’ll go an’ get ’em. Hang\\non …’\\nHe strode away from them into the Forest and out of sight.\\n‘God, this place is going to the dogs,’ said Malfoy loudly.\\n‘That oaf teaching classes, my father’ll have a ﬁt when I tell\\nhim –’\\n‘Shut up, Malfoy,’ Harry repeated.\\n‘Careful, Potter, there’s a Dementor behind you –’\\n‘Oooooooh!’ squealed Lavender Brown, pointing towards\\nthe opposite side of the paddock.\\nTrotting towards them were a dozen of the most bizarre\\ncreatures Harry had ever seen. They had the bodies, hind legs\\nand tails of horses, but the front legs, wings and heads of what\\nseemed to be giant eagles, with cruel, steel-coloured beaks and\\nlarge, brilliantly orange eyes. The talons on their front legs'),\n",
       " Document(id='46aa577e-f8c9-449b-b4d9-d6f94f6c992b', metadata={'producer': 'calibre 8.9.0', 'creator': 'calibre 8.9.0', 'creationdate': '2025-08-26T10:03:43+00:00', 'author': 'J.K. Rowling', 'moddate': '2025-08-26T10:03:43+00:00', 'title': 'Harry Potter and the Order of the Phoenix', 'source': 'input/harry-potter-books-in-pdf-1-7/05 Harry Potter and the Order of the Phoeni - J.K. Rowling.pdf', 'total_pages': 871, 'page': 749, 'page_label': '750'}, page_content='‘Aquavirius Maggots!’ said Luna excitedly. ‘Dad said the\\nMinistry were breeding –’\\n‘No,’ said Hermione. She sounded odd. She moved forward\\nto look through the side of the tank. ‘They’re brains.’\\n‘Brains?’\\n‘Yes … I wonder what they’re doing with them?’')]"
      ]
     },
     "execution_count": 14,
     "metadata": {},
     "output_type": "execute_result"
    }
   ],
   "source": [
    "vectordb.similarity_search('magic creatures')"
   ]
  },
  {
   "cell_type": "markdown",
   "id": "8f29931e-40f3-498a-80ba-7f4d2a4495fe",
   "metadata": {},
   "source": [
    "# Prompt template"
   ]
  },
  {
   "cell_type": "markdown",
   "id": "f04fcd71-3b37-427d-bbbc-5e4b340df448",
   "metadata": {
    "jp-MarkdownHeadingCollapsed": true
   },
   "source": [
    "## Example - old version"
   ]
  },
  {
   "cell_type": "code",
   "execution_count": null,
   "id": "93434a15-81cc-485d-8167-ffd15cbf6431",
   "metadata": {},
   "outputs": [],
   "source": [
    "# # Define a prompt template for interacting with the language model\n",
    "# prompt_template = \"\"\"\n",
    "# Don't try to make up an answer; if you don't know, just say that you don't know.\n",
    "# Answer in the same language the question was asked.\n",
    "# Use only the following pieces of context to answer the question at the end.\n",
    "\n",
    "# {context}\n",
    "\n",
    "# Question: {question}\n",
    "# Answer:\n",
    "# \"\"\"\n",
    "\n",
    "# # Create a PromptTemplate object\n",
    "# PROMPT = PromptTemplate(\n",
    "#     template=prompt_template,               # The template defined above\n",
    "#     input_variables=[\"context\", \"question\"] # Variables that will be replaced in the template\n",
    "# )"
   ]
  },
  {
   "cell_type": "code",
   "execution_count": null,
   "id": "ab486c73-48c4-48de-8c7e-b762603c8f15",
   "metadata": {},
   "outputs": [],
   "source": [
    "# Example of how to use the prompt with an LLM chain (commented out here)\n",
    "# llm_chain = LLMChain(prompt=PROMPT, llm=llm)"
   ]
  },
  {
   "cell_type": "markdown",
   "id": "d444855c-f5b0-4d20-ac9d-b93dd791db52",
   "metadata": {},
   "source": [
    "## Example - new version"
   ]
  },
  {
   "cell_type": "code",
   "execution_count": 15,
   "id": "314ddd31-e9e5-403a-9509-73bce88835f1",
   "metadata": {},
   "outputs": [],
   "source": [
    "from langchain_core.prompts import ChatPromptTemplate\n",
    "\n",
    "prompt_template = \"\"\"\n",
    "Don't try to make up an answer; if you don't know, just say that you don't know.\n",
    "Answer in the same language the question was asked.\n",
    "Use only the following pieces of context to answer the question at the end.\n",
    "\n",
    "{context}\n",
    "\n",
    "Question: {input}\n",
    "Answer:\n",
    "\"\"\"\n",
    "\n",
    "PROMPT = ChatPromptTemplate.from_template(prompt_template)"
   ]
  },
  {
   "cell_type": "markdown",
   "id": "838751c5-d08d-4442-a4c4-830d82e83410",
   "metadata": {},
   "source": [
    "# Retriever chain = 文本检索 + 答案生成"
   ]
  },
  {
   "cell_type": "markdown",
   "id": "6a39a81d-8721-48bd-8680-eee76e3277bf",
   "metadata": {},
   "source": [
    "## Example - old version\n",
    "\n",
    "`RetrievalQA.from_chain_type(...)` - deprecated"
   ]
  },
  {
   "cell_type": "code",
   "execution_count": null,
   "id": "a42e80ef-0029-4814-b04d-721c1168dda8",
   "metadata": {},
   "outputs": [],
   "source": [
    "# # Create a retriever from the vector database\n",
    "# # - \"k\": number of top results to retrieve\n",
    "# # - \"search_type\": similarity search (can be changed to \"mmr\" for Max Marginal Relevance)\n",
    "# retriever = vectordb.as_retriever(\n",
    "#     search_kwargs={\"k\": CFG.k, \"search_type\": \"similarity\"}\n",
    "# )\n",
    "\n",
    "# # Configure the RetrievalQA chain\n",
    "# qa_chain = RetrievalQA.from_chain_type(\n",
    "#     llm=llm,                         # Large Language Model (e.g., OpenAI, LLaMA, etc.)\n",
    "#     chain_type=\"stuff\",              # Method to combine retrieved docs: \"stuff\", \"map_reduce\", \"map_rerank\", \"refine\"\n",
    "#     retriever=retriever,             # The retriever defined above\n",
    "#     chain_type_kwargs={\"prompt\": PROMPT},  # Custom prompt to control LLM behavior\n",
    "#     return_source_documents=True,    # Return source documents along with the answer\n",
    "#     verbose=False                    # Whether to log intermediate steps\n",
    "# )"
   ]
  },
  {
   "cell_type": "markdown",
   "id": "7feef123-188e-44d6-b11d-d59afb9ced63",
   "metadata": {},
   "source": [
    "## Example - new version"
   ]
  },
  {
   "cell_type": "code",
   "execution_count": 34,
   "id": "13eab3eb-6652-4939-8521-11d29365be75",
   "metadata": {},
   "outputs": [
    {
     "data": {
      "text/plain": [
       "[Document(id='a25215bf-dec1-45cc-accb-de596cf6f335', metadata={'producer': 'calibre 8.9.0', 'creator': 'calibre 8.9.0', 'creationdate': '2025-08-26T10:02:38+00:00', 'author': 'J.K. Rowling', 'moddate': '2025-08-26T10:02:38+00:00', 'title': 'Harry Potter and the Goblet of Fire', 'source': 'input/harry-potter-books-in-pdf-1-7/04 Harry Potter and the Goblet of Fire - J.K. Rowling.pdf', 'total_pages': 622, 'page': 164, 'page_label': '165'}, page_content='smile from behind his bushy beard. Hagrid would have liked\\nnothing better than a pet dragon, as Harry, Ron and Hermione\\nknew only too well – he had owned one for a brief period\\nduring their ﬁrst year, a vicious Norwegian Ridgeback by the'),\n",
       " Document(id='5c81b3c0-9f7f-4a9f-bdf0-23f6595fd5f0', metadata={'producer': 'calibre 8.9.0', 'creator': 'calibre 8.9.0', 'creationdate': '2025-08-26T10:04:09+00:00', 'author': 'J.K. Rowling', 'moddate': '2025-08-26T10:04:09+00:00', 'title': 'Harry Potter and the Prisoner of Azkaban', 'source': 'input/harry-potter-books-in-pdf-1-7/03 Harry Potter and the Prisoner of Azkaban - J.K. Rowling.pdf', 'total_pages': 395, 'page': 103, 'page_label': '104'}, page_content='103\\nvast hands of Hagrid, who came jogging into the paddock\\nbehind the creatures.\\n‘Gee up, there!’ he roared, shaking the chains and urging the\\ncreatures towards the fence where the class stood. Everyone\\ndrew back slightly as Hagrid reached them and tethered the\\ncreatures to the fence.\\n‘Hippogriffs!’ Hagrid roared happily, waving a hand at\\nthem. ‘Beau’iful, aren’ they?’\\nHarry could sort of see what Hagrid meant. Once you had\\ngot over the ﬁrst shock of seeing something that was half-\\nhorse, half-bird, you started to appreciate the Hippogriffs’\\ngleaming coats, changing smoothly from feather to hair, each\\nof them a different colour: stormy grey, bronze, a pinkish roan,\\ngleaming chestnut and inky black.\\n‘So,’ said Hagrid, rubbing his hands together and beaming'),\n",
       " Document(id='315e95a9-1433-44c9-86cb-a69e51c5a412', metadata={'producer': 'calibre 8.9.0', 'creator': 'calibre 8.9.0', 'creationdate': '2025-08-26T10:04:20+00:00', 'author': 'J.K. Rowling', 'moddate': '2025-08-26T10:04:20+00:00', 'title': 'Harry Potter and the Chamber of Secrets', 'source': 'input/harry-potter-books-in-pdf-1-7/02 Harry Potter and the Chamber of Secrets - J.K. Rowling.pdf', 'total_pages': 294, 'page': 221, 'page_label': '222'}, page_content='cared for me, hidden in a cupboard in the castle, feeding me on\\nscraps from the table. Hagrid is my good friend, and a good\\nman. When I was discovered, and blamed for the death of a\\ngirl, he protected me. I have lived here in the Forest ever since,\\nwhere Hagrid still visits me. He even found me a wife, Mosag,\\nand you see how our family has grown, all through Hagrid’s\\ngoodness …’'),\n",
       " Document(id='82126527-69bc-4587-9324-30d02b8ae449', metadata={'producer': 'calibre 8.9.0', 'creator': 'calibre 8.9.0', 'creationdate': '2025-08-26T10:04:20+00:00', 'author': 'J.K. Rowling', 'moddate': '2025-08-26T10:04:20+00:00', 'title': 'Harry Potter and the Chamber of Secrets', 'source': 'input/harry-potter-books-in-pdf-1-7/02 Harry Potter and the Chamber of Secrets - J.K. Rowling.pdf', 'total_pages': 294, 'page': 222, 'page_label': '223'}, page_content='‘My sons and daughters do not harm Hagrid, on my\\ncommand. But I cannot deny them fresh meat, when it\\nwanders so willingly into our midst. Goodbye, friend of\\nHagrid.’\\nHarry spun around. Feet away, towering above him, was a\\nsolid wall of spiders, clicking, their many eyes gleaming in'),\n",
       " Document(id='90a1b0f1-a8df-470d-86b3-6cfc3027d595', metadata={'producer': 'calibre 8.9.0', 'creator': 'calibre 8.9.0', 'creationdate': '2025-08-26T10:02:38+00:00', 'author': 'J.K. Rowling', 'moddate': '2025-08-26T10:02:38+00:00', 'title': 'Harry Potter and the Goblet of Fire', 'source': 'input/harry-potter-books-in-pdf-1-7/04 Harry Potter and the Goblet of Fire - J.K. Rowling.pdf', 'total_pages': 622, 'page': 165, 'page_label': '166'}, page_content='165\\nname of Norbert. Hagrid simply loved monstrous creatures –\\nthe more lethal, the better.\\n‘Well, at least the Skrewts are small,’ said Ron, as they\\nmade their way back up to the castle for lunch an hour later.\\n‘They are now,’ said Hermione in an exasperated voice, ‘but\\nonce Hagrid’s found out what they eat, I expect they’ll be six\\nfeet long.’\\n‘Well, that won’t matter if they turn out to cure sea sickness\\nor something, will it?’ said Ron, grinning slyly at her.\\n‘You know perfectly well I only said that to shut Malfoy\\nup,’ said Hermione. ‘As a matter of fact I think he’s right. The\\nbest thing to do would be to stamp on the lot of them before\\nthey start attacking us all.’\\nThey sat down at the Gryfﬁndor table and helped\\nthemselves to lamb chops and potatoes. Hermione began to eat'),\n",
       " Document(id='311cb7f9-11a0-44a8-a85f-83b66d0f6b8c', metadata={'producer': 'calibre 8.9.0', 'creator': 'calibre 8.9.0', 'creationdate': '2025-08-26T10:03:43+00:00', 'author': 'J.K. Rowling', 'moddate': '2025-08-26T10:03:43+00:00', 'title': 'Harry Potter and the Order of the Phoenix', 'source': 'input/harry-potter-books-in-pdf-1-7/05 Harry Potter and the Order of the Phoeni - J.K. Rowling.pdf', 'total_pages': 871, 'page': 351, 'page_label': '352'}, page_content='sometimes go for birds, of course, but Hagrid’s got the\\nHogwarts Thestrals well-trained not to touch owls.’')]"
      ]
     },
     "execution_count": 34,
     "metadata": {},
     "output_type": "execute_result"
    }
   ],
   "source": [
    "### testing similarity search\n",
    "question = \"Which are Hagrid's favorite animals?\"\n",
    "vectordb.similarity_search(question, k = CFG.k)"
   ]
  },
  {
   "cell_type": "code",
   "execution_count": 35,
   "id": "aafbfb86-f21b-4217-9df4-1c1bd7f054ec",
   "metadata": {},
   "outputs": [
    {
     "data": {
      "text/plain": [
       "[Document(id='a25215bf-dec1-45cc-accb-de596cf6f335', metadata={'producer': 'calibre 8.9.0', 'creator': 'calibre 8.9.0', 'creationdate': '2025-08-26T10:02:38+00:00', 'author': 'J.K. Rowling', 'moddate': '2025-08-26T10:02:38+00:00', 'title': 'Harry Potter and the Goblet of Fire', 'source': 'input/harry-potter-books-in-pdf-1-7/04 Harry Potter and the Goblet of Fire - J.K. Rowling.pdf', 'total_pages': 622, 'page': 164, 'page_label': '165'}, page_content='smile from behind his bushy beard. Hagrid would have liked\\nnothing better than a pet dragon, as Harry, Ron and Hermione\\nknew only too well – he had owned one for a brief period\\nduring their ﬁrst year, a vicious Norwegian Ridgeback by the'),\n",
       " Document(id='311cb7f9-11a0-44a8-a85f-83b66d0f6b8c', metadata={'producer': 'calibre 8.9.0', 'creator': 'calibre 8.9.0', 'creationdate': '2025-08-26T10:03:43+00:00', 'author': 'J.K. Rowling', 'moddate': '2025-08-26T10:03:43+00:00', 'title': 'Harry Potter and the Order of the Phoenix', 'source': 'input/harry-potter-books-in-pdf-1-7/05 Harry Potter and the Order of the Phoeni - J.K. Rowling.pdf', 'total_pages': 871, 'page': 351, 'page_label': '352'}, page_content='sometimes go for birds, of course, but Hagrid’s got the\\nHogwarts Thestrals well-trained not to touch owls.’'),\n",
       " Document(id='315e95a9-1433-44c9-86cb-a69e51c5a412', metadata={'producer': 'calibre 8.9.0', 'creator': 'calibre 8.9.0', 'creationdate': '2025-08-26T10:04:20+00:00', 'author': 'J.K. Rowling', 'moddate': '2025-08-26T10:04:20+00:00', 'title': 'Harry Potter and the Chamber of Secrets', 'source': 'input/harry-potter-books-in-pdf-1-7/02 Harry Potter and the Chamber of Secrets - J.K. Rowling.pdf', 'total_pages': 294, 'page': 221, 'page_label': '222'}, page_content='cared for me, hidden in a cupboard in the castle, feeding me on\\nscraps from the table. Hagrid is my good friend, and a good\\nman. When I was discovered, and blamed for the death of a\\ngirl, he protected me. I have lived here in the Forest ever since,\\nwhere Hagrid still visits me. He even found me a wife, Mosag,\\nand you see how our family has grown, all through Hagrid’s\\ngoodness …’'),\n",
       " Document(id='5c81b3c0-9f7f-4a9f-bdf0-23f6595fd5f0', metadata={'producer': 'calibre 8.9.0', 'creator': 'calibre 8.9.0', 'creationdate': '2025-08-26T10:04:09+00:00', 'author': 'J.K. Rowling', 'moddate': '2025-08-26T10:04:09+00:00', 'title': 'Harry Potter and the Prisoner of Azkaban', 'source': 'input/harry-potter-books-in-pdf-1-7/03 Harry Potter and the Prisoner of Azkaban - J.K. Rowling.pdf', 'total_pages': 395, 'page': 103, 'page_label': '104'}, page_content='103\\nvast hands of Hagrid, who came jogging into the paddock\\nbehind the creatures.\\n‘Gee up, there!’ he roared, shaking the chains and urging the\\ncreatures towards the fence where the class stood. Everyone\\ndrew back slightly as Hagrid reached them and tethered the\\ncreatures to the fence.\\n‘Hippogriffs!’ Hagrid roared happily, waving a hand at\\nthem. ‘Beau’iful, aren’ they?’\\nHarry could sort of see what Hagrid meant. Once you had\\ngot over the ﬁrst shock of seeing something that was half-\\nhorse, half-bird, you started to appreciate the Hippogriffs’\\ngleaming coats, changing smoothly from feather to hair, each\\nof them a different colour: stormy grey, bronze, a pinkish roan,\\ngleaming chestnut and inky black.\\n‘So,’ said Hagrid, rubbing his hands together and beaming'),\n",
       " Document(id='90a1b0f1-a8df-470d-86b3-6cfc3027d595', metadata={'producer': 'calibre 8.9.0', 'creator': 'calibre 8.9.0', 'creationdate': '2025-08-26T10:02:38+00:00', 'author': 'J.K. Rowling', 'moddate': '2025-08-26T10:02:38+00:00', 'title': 'Harry Potter and the Goblet of Fire', 'source': 'input/harry-potter-books-in-pdf-1-7/04 Harry Potter and the Goblet of Fire - J.K. Rowling.pdf', 'total_pages': 622, 'page': 165, 'page_label': '166'}, page_content='165\\nname of Norbert. Hagrid simply loved monstrous creatures –\\nthe more lethal, the better.\\n‘Well, at least the Skrewts are small,’ said Ron, as they\\nmade their way back up to the castle for lunch an hour later.\\n‘They are now,’ said Hermione in an exasperated voice, ‘but\\nonce Hagrid’s found out what they eat, I expect they’ll be six\\nfeet long.’\\n‘Well, that won’t matter if they turn out to cure sea sickness\\nor something, will it?’ said Ron, grinning slyly at her.\\n‘You know perfectly well I only said that to shut Malfoy\\nup,’ said Hermione. ‘As a matter of fact I think he’s right. The\\nbest thing to do would be to stamp on the lot of them before\\nthey start attacking us all.’\\nThey sat down at the Gryfﬁndor table and helped\\nthemselves to lamb chops and potatoes. Hermione began to eat'),\n",
       " Document(id='8ac2a732-bc7d-4f27-8448-e109477e7a2b', metadata={'producer': 'calibre 8.9.0', 'creator': 'calibre 8.9.0', 'creationdate': '2025-08-26T10:04:09+00:00', 'author': 'J.K. Rowling', 'moddate': '2025-08-26T10:04:09+00:00', 'title': 'Harry Potter and the Prisoner of Azkaban', 'source': 'input/harry-potter-books-in-pdf-1-7/03 Harry Potter and the Prisoner of Azkaban - J.K. Rowling.pdf', 'total_pages': 395, 'page': 86, 'page_label': '87'}, page_content='had cleared Hagrid’s name last year.\\nAt long last, when the last morsels of pumpkin tart had\\nmelted from the golden platters, Dumbledore gave the word\\nthat it was time for them all to go to bed, and they got their\\nchance.\\n‘Congratulations, Hagrid!’ Hermione squealed, as they\\nreached the teachers’ table.\\n‘All down ter you three,’ said Hagrid, wiping his shining\\nface on his napkin as he looked up at them. ‘Can’ believe it …')]"
      ]
     },
     "execution_count": 35,
     "metadata": {},
     "output_type": "execute_result"
    }
   ],
   "source": [
    "### testing MMR search\n",
    "question = \"Which are Hagrid's favorite animals?\"\n",
    "vectordb.max_marginal_relevance_search(question, k = CFG.k)"
   ]
  },
  {
   "cell_type": "code",
   "execution_count": 37,
   "id": "b3fbe0f3-07f9-47c0-9fcc-130f9e3d30b5",
   "metadata": {},
   "outputs": [],
   "source": [
    "# pip install -U langchain langchain-community\n",
    "\n",
    "from langchain.chains import create_retrieval_chain\n",
    "from langchain.chains.combine_documents import create_stuff_documents_chain\n",
    "from langchain_core.prompts import ChatPromptTemplate\n",
    "\n",
    "# ==== 1) retriever 依然这样写（支持 similarity / mmr / 阈值等）\n",
    "retriever = vectordb.as_retriever(\n",
    "    search_type=\"similarity\",\n",
    "    search_kwargs={\"k\": CFG.k}\n",
    ")\n",
    "\n",
    "# ==== 2) 自定义 prompt（等价你原来的 PROMPT）\n",
    "# prompt_template = \"\"\"\n",
    "# Don't try to make up an answer; if you don't know, just say that you don't know.\n",
    "# Answer in the same language the question was asked.\n",
    "# Use only the following pieces of context to answer the question at the end.\n",
    "\n",
    "# {context}\n",
    "\n",
    "# Question: {input}\n",
    "# Answer:\n",
    "# \"\"\"\n",
    "\n",
    "# PROMPT = ChatPromptTemplate.from_template(prompt_template)\n",
    "\n",
    "# ==== 3) 把“stuff”式的文档合并链建好\n",
    "doc_chain = create_stuff_documents_chain(llm, PROMPT)\n",
    "\n",
    "# ==== 4) 组成完整 RAG chain\n",
    "qa_chain = create_retrieval_chain(retriever, doc_chain)\n",
    "\n",
    "# ==== 5) 调用\n",
    "question = \"Which are Hagrid's favorite animals?\"\n",
    "res = qa_chain.invoke({\"input\": question})\n",
    "answer = res[\"answer\"]\n",
    "sources = res[\"context\"]   # 这里就是文档列表"
   ]
  },
  {
   "cell_type": "markdown",
   "id": "58588e15-1644-42bc-8394-688c29ca9232",
   "metadata": {},
   "source": [
    "## How to improve performance?\n",
    "\n",
    "### 🔍 1. 调整检索参数\n",
    "- 增加 k：\n",
    "现在你可能只取了 k=3\\~6 个片段，容易漏掉。可以尝试调大，比如 k=10~15，让模型有更多 context 参考。\n",
    "- 换 search_type：\n",
    "默认 similarity 有时会抓到相关性强但不完整的段落，可以尝试 mmr（Maximal Marginal Relevance），能取到 覆盖范围更广 的片段。\n",
    "\n",
    "### 📑 2. 优化文本切分\n",
    "\n",
    "减小 chunk size：太大容易“稀释”主题，太小容易丢上下文。你可以试试 400–800 tokens 的范围。\n",
    "\n",
    "增加 overlap：比如 overlap=100–200，让上下文更连贯，避免某个关键句被切掉。\n",
    "\n",
    "### 🧠 3. 改善 Prompt\n",
    "\n",
    "在 prompt 里引导模型：\n",
    "\n",
    "明确告诉它“如果 context 里信息不全，要如实说明，而不是瞎编”。\n",
    "\n",
    "甚至可以加一行：\n",
    "\n",
    "```\n",
    "If the context does not explicitly state the answer, say \"Not enough information in context.\"\n",
    "```\n",
    "\n",
    "这样能避免出现你提到的模糊答案。"
   ]
  },
  {
   "cell_type": "markdown",
   "id": "43bf92ae-8096-4565-88e2-a24b3ef0b5d5",
   "metadata": {},
   "source": [
    "### Hyperparameter tuning"
   ]
  },
  {
   "cell_type": "code",
   "execution_count": 38,
   "id": "919bcf19-5b17-420f-b389-7aff2b9c835b",
   "metadata": {},
   "outputs": [],
   "source": [
    "# def compare_retrieval(question, retriever, vectordb, k=5):\n",
    "#     print(\"=\"*30)\n",
    "#     print(f\"Query: {question}\")\n",
    "#     print(\"=\"*30)\n",
    "\n",
    "#     # 方法1: similarity search\n",
    "#     print(\"\\n🔹 Similarity Search Results:\")\n",
    "#     sim_docs = retriever.get_relevant_documents(question)\n",
    "#     for i, doc in enumerate(sim_docs[:k]):\n",
    "#         print(f\"\\n--- Doc {i+1} ---\")\n",
    "#         print(doc.page_content[:200])  # 只显示前200字，避免太长\n",
    "#         print(f\"Metadata: {doc.metadata}\")\n",
    "\n",
    "#     # 方法2: Max Marginal Relevance (MMR)\n",
    "#     print(\"\\n🔹 MMR Search Results:\")\n",
    "#     mmr_docs = vectordb.max_marginal_relevance_search(\n",
    "#         question,\n",
    "#         k=k,         # 最终返回数量\n",
    "#         fetch_k=50,  # 候选数量，越大多样性越强\n",
    "#         lambda_mult=0.5\n",
    "#     )\n",
    "#     for i, doc in enumerate(mmr_docs[:k]):\n",
    "#         print(f\"\\n--- Doc {i+1} ---\")\n",
    "#         print(doc.page_content[:200])  # 只显示前200字\n",
    "#         print(f\"Metadata: {doc.metadata}\")\n",
    "\n",
    "#     return sim_docs, mmr_docs"
   ]
  },
  {
   "cell_type": "code",
   "execution_count": 39,
   "id": "1dd1d6a5-8272-42cc-baac-937ec104eb0f",
   "metadata": {},
   "outputs": [],
   "source": [
    "# question = \"Which are Hagrid's favorite animals?\"\n",
    "# sim_results, mmr_results = compare_retrieval(question, retriever, vectordb, k=5)"
   ]
  },
  {
   "cell_type": "code",
   "execution_count": 40,
   "id": "eb8d8649-4bb9-4b1c-b938-e0114e5bf8b3",
   "metadata": {},
   "outputs": [],
   "source": [
    "# # ====== FAISS 对比与可视化 ======\n",
    "# import numpy as np\n",
    "# import pandas as pd\n",
    "# # import matplotlib.pyplot as plt\n",
    "\n",
    "# def _cos_sim(a, b):\n",
    "#     a = np.asarray(a); b = np.asarray(b)\n",
    "#     return float(np.dot(a, b) / (np.linalg.norm(a) * np.linalg.norm(b) + 1e-12))\n",
    "\n",
    "# def _diversity_score(emb_list):\n",
    "#     \"\"\"1 - 平均两两余弦相似度；越大越多样。\"\"\"\n",
    "#     if not emb_list or len(emb_list) < 2:\n",
    "#         return 0.0\n",
    "#     E = np.vstack(emb_list)\n",
    "#     sims = (E @ E.T) / (np.linalg.norm(E, axis=1, keepdims=True) @ np.linalg.norm(E, axis=1, keepdims=True).T + 1e-12)\n",
    "#     upper = sims[np.triu_indices(len(E), k=1)]\n",
    "#     return float(1 - upper.mean())\n",
    "\n",
    "# def evaluate_faiss_with_viz(\n",
    "#     query: str,\n",
    "#     faiss_store,            # LangChain FAISS VectorStore 实例\n",
    "#     embed_model,            # LangChain Embeddings 实例（如 OpenAIEmbeddings / HuggingFaceEmbeddings）\n",
    "#     k: int = 5,\n",
    "#     fetch_k: int = 20,\n",
    "#     lambda_mult: float = 0.5,\n",
    "#     show_plot: bool = True\n",
    "# ):\n",
    "#     \"\"\"\n",
    "#     - Similarity：使用 FAISS 的 similarity_search_with_score，分数直接来自向量库（更准确/高效）\n",
    "#     - MMR：通过 retriever(search_type=\"mmr\") 获取文档，再用 query-embedding 计算分数（部分 VectorStore 暂无“带分数的 MMR”接口）\n",
    "#     \"\"\"\n",
    "#     # ===== Similarity（直接取库内分数）=====\n",
    "#     sim_pairs = faiss_store.similarity_search_with_score(query, k=k)  # [(Document, score), ...]\n",
    "#     sim_docs, sim_scores = zip(*sim_pairs) if sim_pairs else ([], [])\n",
    "#     q_vec = embed_model.embed_query(query)\n",
    "#     sim_doc_embs = [embed_model.embed_query(d.page_content) for d in sim_docs] if sim_docs else []\n",
    "#     sim_div = _diversity_score(sim_doc_embs)\n",
    "#     sim_cov = len({d.metadata.get(\"source\", idx) for idx, d in enumerate(sim_docs)}) / max(k, 1)\n",
    "\n",
    "#     # 注意：FAISS 的 score 可能是距离(L2)或相似度，LangChain 文档示例以“SIM=”展示，可直接用于相对比较。:contentReference[oaicite:1]{index=1}\n",
    "\n",
    "#     # ===== MMR（多样性检索）=====\n",
    "#     retriever_mmr = faiss_store.as_retriever(\n",
    "#         search_type=\"mmr\",\n",
    "#         search_kwargs={\"k\": k, \"fetch_k\": fetch_k, \"lambda_mult\": lambda_mult},\n",
    "#     )\n",
    "#     mmr_docs = retriever_mmr.invoke(query) or []\n",
    "#     # 目前多数实现没有“MMR+分数”接口，这里用 q_vec 与文档向量做余弦作为分数近似。:contentReference[oaicite:2]{index=2}\n",
    "#     mmr_doc_embs = [embed_model.embed_query(d.page_content) for d in mmr_docs]\n",
    "#     mmr_scores = [_cos_sim(q_vec, e) for e in mmr_doc_embs] if mmr_doc_embs else []\n",
    "#     mmr_div = _diversity_score(mmr_doc_embs)\n",
    "#     mmr_cov = len({d.metadata.get(\"source\", idx) for idx, d in enumerate(mmr_docs)}) / max(k, 1)\n",
    "\n",
    "#     # ===== 汇总指标 =====\n",
    "#     metrics = pd.DataFrame(\n",
    "#         {\n",
    "#             \"similarity\": {\n",
    "#                 \"Mean Similarity\": float(np.mean(sim_scores)) if sim_scores else np.nan,\n",
    "#                 \"Diversity\": sim_div,\n",
    "#                 \"Coverage\": sim_cov,\n",
    "#             },\n",
    "#             \"mmr\": {\n",
    "#                 \"Mean Similarity\": float(np.mean(mmr_scores)) if mmr_scores else np.nan,\n",
    "#                 \"Diversity\": mmr_div,\n",
    "#                 \"Coverage\": mmr_cov,\n",
    "#             },\n",
    "#         }\n",
    "#     ).T\n",
    "\n",
    "#     print(\"=== Query ===\")\n",
    "#     print(query)\n",
    "#     print(\"\\n=== Metrics ===\")\n",
    "#     print(metrics)\n",
    "\n",
    "#     # ===== 可视化（单图、三组指标并列柱状）=====\n",
    "#     # if show_plot:\n",
    "#     #     ax = metrics.plot(kind=\"bar\")\n",
    "#     #     ax.set_title(\"FAISS Retrieval: Similarity vs MMR\")\n",
    "#     #     ax.set_xlabel(\"Method\")\n",
    "#     #     ax.set_ylabel(\"Score\")\n",
    "#     #     ax.legend(loc=\"best\")\n",
    "#     #     plt.tight_layout()\n",
    "#     #     plt.show()\n",
    "\n",
    "#     return {\n",
    "#         \"metrics\": metrics,\n",
    "#         \"similarity\": {\"docs\": sim_docs, \"scores\": sim_scores},\n",
    "#         \"mmr\": {\"docs\": mmr_docs, \"scores\": mmr_scores},\n",
    "#     }\n",
    "\n",
    "# # ===== 使用示例 =====\n",
    "# # result = evaluate_faiss_with_viz(\n",
    "# #     query=\"Which are Hagrid's favorite animals?\",\n",
    "# #     faiss_store=vector_store,      # 你的 FAISS VectorStore\n",
    "# #     embed_model=embeddings_model,  # 你的 Embeddings\n",
    "# #     k=5, fetch_k=20, lambda_mult=0.5,\n",
    "# #     show_plot=True\n",
    "# # )\n"
   ]
  },
  {
   "cell_type": "code",
   "execution_count": 41,
   "id": "a00c0aa4-59ec-47b9-8467-88a428fea893",
   "metadata": {},
   "outputs": [],
   "source": [
    "# 假设你的函数已经定义好并在当前作用域\n",
    "# from your_module import evaluate_faiss_with_viz\n",
    "\n",
    "# result = evaluate_faiss_with_viz(\n",
    "#     query=\"Which are Hagrid's favorite animals?\",\n",
    "#     faiss_store=vectordb,      # 你的 FAISS VectorStore\n",
    "#     embed_model=embeddings,  # 你的 Embeddings\n",
    "#     k=5, fetch_k=20, lambda_mult=0.5,\n",
    "#     show_plot=True\n",
    "# )\n",
    "\n",
    "# # result 包含：\n",
    "# # - result[\"metrics\"]：指标 DataFrame\n",
    "# # - result[\"similarity\"][\"docs\"], result[\"similarity\"][\"scores\"]\n",
    "# # - result[\"mmr\"][\"docs\"], result[\"mmr\"][\"scores\"]\n",
    "\n",
    "# # 打印具体结果看看\n",
    "# print(\"\\nSimilarity Search Results:\")\n",
    "# for doc, score in zip(result[\"similarity\"][\"docs\"], result[\"similarity\"][\"scores\"]):\n",
    "#     print(f\"* [Score={score:.4f}] {doc.page_content} — {doc.metadata}\")\n",
    "\n",
    "# print(\"\\nMMR Search Results:\")\n",
    "# for doc, score in zip(result[\"mmr\"][\"docs\"], result[\"mmr\"][\"scores\"]):\n",
    "#     print(f\"* [Score={score:.4f}] {doc.page_content} — {doc.metadata}\")\n"
   ]
  },
  {
   "cell_type": "code",
   "execution_count": 42,
   "id": "487fba44-2ad1-48d9-a9a2-1c31bac1c780",
   "metadata": {},
   "outputs": [],
   "source": [
    "# # Natural-language query from the user\n",
    "# question = \"Which are Hagrid's favorite animals?\"\n",
    "\n",
    "# docs = retriever.get_relevant_documents(question)\n",
    "# print(docs)\n",
    "\n",
    "# # Run Max Marginal Relevance (MMR) search:\n",
    "# # - k: final number of diverse-yet-relevant chunks to return\n",
    "# # - fetch_k (optional): retrieve more candidates first, then down-select by diversity\n",
    "# # - lambda_mult (optional): trade-off between relevance (1.0) and diversity (0.0). Default ~0.5\n",
    "# docs = vectordb.max_marginal_relevance_search(\n",
    "#     question,\n",
    "#     k=CFG.k,              # how many chunks you ultimately want\n",
    "#     fetch_k=20,           # pull more to allow better diversity selection\n",
    "#     lambda_mult=0.5       # 0.5 is a balanced relevance/diversity trade-off\n",
    "# )\n",
    "\n",
    "# # 'docs' is a list of Document objects you can inspect or feed to an LLM.\n",
    "# print(docs)"
   ]
  },
  {
   "cell_type": "code",
   "execution_count": 43,
   "id": "6eefdbfe-05e2-4e99-bb14-f076babd5088",
   "metadata": {},
   "outputs": [],
   "source": [
    "# # Natural-language query from the user\n",
    "# question = \"Which challenges does Harry face during the Triwizard Tournament?\"\n",
    "\n",
    "# # Run Max Marginal Relevance (MMR) search:\n",
    "# # - k: final number of diverse-yet-relevant chunks to return\n",
    "# # - fetch_k (optional): retrieve more candidates first, then down-select by diversity\n",
    "# # - lambda_mult (optional): trade-off between relevance (1.0) and diversity (0.0). Default ~0.5\n",
    "# docs = vectordb.max_marginal_relevance_search(\n",
    "#     question,\n",
    "#     k=CFG.k,              # how many chunks you ultimately want\n",
    "#     fetch_k=20,           # pull more to allow better diversity selection\n",
    "#     lambda_mult=0.5       # 0.5 is a balanced relevance/diversity trade-off\n",
    "# )\n",
    "\n",
    "# # 'docs' is a list of Document objects you can inspect or feed to an LLM.\n",
    "# print(docs)"
   ]
  },
  {
   "cell_type": "code",
   "execution_count": 44,
   "id": "4e451138-e91b-4b59-8521-172ff1d7ef0e",
   "metadata": {},
   "outputs": [],
   "source": [
    "# retriever = vectordb.as_retriever(\n",
    "#     search_type=\"mmr\",\n",
    "#     search_kwargs={\"k\": CFG.k, \"fetch_k\": 20, \"lambda_mult\": 0.5}\n",
    "# )\n",
    "\n",
    "# # Configure the RetrievalQA chain\n",
    "# qa_chain = RetrievalQA.from_chain_type(\n",
    "#     llm=llm,                         # Large Language Model (e.g., OpenAI, LLaMA, etc.)\n",
    "#     chain_type=\"stuff\",              # Method to combine retrieved docs: \"stuff\", \"map_reduce\", \"map_rerank\", \"refine\"\n",
    "#     retriever=retriever,             # The retriever defined above\n",
    "#     chain_type_kwargs={\"prompt\": PROMPT},  # Custom prompt to control LLM behavior\n",
    "#     return_source_documents=True,    # Return source documents along with the answer\n",
    "#     verbose=False                    # Whether to log intermediate steps\n",
    "# )"
   ]
  },
  {
   "cell_type": "markdown",
   "id": "4f26d6d2-df73-4de7-8b36-90c80a5ed11e",
   "metadata": {},
   "source": [
    "### NMR"
   ]
  },
  {
   "cell_type": "code",
   "execution_count": 45,
   "id": "1467b52b-2cf5-4185-a894-0369db5b8384",
   "metadata": {},
   "outputs": [],
   "source": [
    "# # 1) 用 MMR，提高多样性覆盖\n",
    "# retriever = vectordb.as_retriever(\n",
    "#     search_type=\"mmr\",\n",
    "#     search_kwargs={\n",
    "#         \"k\": 5,           # 返回给 LLM 的文档数\n",
    "#         \"fetch_k\": 20,     # 先抓候选，再在其中做 MMR 复排\n",
    "#         \"lambda_mult\": 0.5 # 0=最大多样性, 1=最小多样性；0.3~0.7 常用\n",
    "#     }\n",
    "# )\n",
    "\n",
    "# # 2) 选择更适合长文档的链路（例如 map_reduce 或 refine）\n",
    "# from langchain.chains import RetrievalQA\n",
    "\n",
    "# qa_chain = RetrievalQA.from_chain_type(\n",
    "#     llm=llm,                         # Large Language Model (e.g., OpenAI, LLaMA, etc.)\n",
    "#     chain_type=\"stuff\",              # Method to combine retrieved docs: \"stuff\", \"map_reduce\", \"map_rerank\", \"refine\"\n",
    "#     retriever=retriever,             # The retriever defined above\n",
    "#     chain_type_kwargs={\"prompt\": PROMPT},  # Custom prompt to control LLM behavior\n",
    "#     return_source_documents=True,    # Return source documents along with the answer\n",
    "#     verbose=False                    # Whether to log intermediate steps\n",
    "# )\n",
    "\n",
    "# qa_chain = RetrievalQA.from_chain_type(\n",
    "#     llm=llm,\n",
    "#     retriever=retriever,\n",
    "#     chain_type=\"map_reduce\",   # 可选: \"stuff\" | \"map_reduce\" | \"refine\" | \"map_rerank\"\n",
    "#     chain_type_kwargs={\n",
    "#         \"question_prompt\": PROMPT,  # 你的自定义问题提示\n",
    "#         # 对于 map_reduce，你也可以分别提供 map_prompt / combine_prompt\n",
    "#         # \"map_prompt\": MAP_PROMPT,\n",
    "#         # \"combine_prompt\": COMBINE_PROMPT,\n",
    "#     },\n",
    "#     return_source_documents=True,\n",
    "#     verbose=False\n",
    "# )"
   ]
  },
  {
   "cell_type": "markdown",
   "id": "47b4b81c-51ff-4b80-954b-721ac207891b",
   "metadata": {},
   "source": [
    "# Post-process outputs"
   ]
  },
  {
   "cell_type": "code",
   "execution_count": 46,
   "id": "da060e59-031d-4a7f-b60f-88db58f98838",
   "metadata": {},
   "outputs": [],
   "source": [
    "import time\n",
    "import textwrap\n",
    "from typing import Any, Dict, Iterable, Optional, List\n",
    "\n",
    "# ==== 0) 文本换行（不改） ====\n",
    "def wrap_text_preserve_newlines(text: str, width: int = 80) -> str:\n",
    "    lines = text.split(\"\\n\")\n",
    "    wrapped_lines = [textwrap.fill(line, width=width) if line else \"\" for line in lines]\n",
    "    return \"\\n\".join(wrapped_lines)\n",
    "\n",
    "# ==== 1) 从路径提炼可读名字（不改） ====\n",
    "def _pretty_source_name(path: Optional[str]) -> str:\n",
    "    if not path:\n",
    "        return \"Unknown\"\n",
    "    name = path.split(\"/\")[-1].split(\"\\\\\")[-1]\n",
    "    if name.lower().endswith(\".pdf\"):\n",
    "        name = name[:-4]\n",
    "    return name or \"Unknown\""
   ]
  },
  {
   "cell_type": "code",
   "execution_count": 47,
   "id": "580b630e-4489-474b-ba10-47186def5ab8",
   "metadata": {},
   "outputs": [],
   "source": [
    "# ==== 2) 统一提取“答案文本”和“来源文档”的适配器（新） ====\n",
    "def _extract_answer_and_docs(resp: Dict[str, Any]):\n",
    "    \"\"\"\n",
    "    兼容新版 RAG 与旧版 RetrievalQA 的响应结构。\n",
    "    - 新版 create_retrieval_chain: {\"answer\": str, \"context\": List[Document], ...}\n",
    "    - 旧版 RetrievalQA: {\"result\": str, \"source_documents\": List[Document], ...}\n",
    "    - 某些链可能用 \"output_text\" 或 \"documents\"\n",
    "    \"\"\"\n",
    "    # 1) 答案字段优先顺序\n",
    "    answer = (\n",
    "        resp.get(\"answer\")\n",
    "        or resp.get(\"result\")\n",
    "        or resp.get(\"output_text\")\n",
    "        or \"\"  # 保底\n",
    "    )\n",
    "\n",
    "    # 2) 文档字段可能是以下任意一个键\n",
    "    docs = (\n",
    "        resp.get(\"context\")\n",
    "        or resp.get(\"source_documents\")\n",
    "        or resp.get(\"documents\")\n",
    "        or []\n",
    "    )\n",
    "    return answer, docs\n",
    "\n",
    "# ==== 3) 格式化来源列表（保序去重） ====\n",
    "def format_sources(docs: List[Any]) -> str:\n",
    "    \"\"\"\n",
    "    支持多种 loader 的 metadata 结构：\n",
    "      - source / file_path / filename\n",
    "      - page / loc.page / page_number / page_label\n",
    "    \"\"\"\n",
    "    seen = set()       # 用于去重（只存字符串行，保持唯一）\n",
    "    lines: List[str] = []\n",
    "\n",
    "    for d in docs:\n",
    "        # 既兼容 Document 对象（有 .metadata），也兼容字典\n",
    "        meta: Dict[str, Any] = {}\n",
    "        if hasattr(d, \"metadata\"):\n",
    "            meta = getattr(d, \"metadata\", {}) or {}\n",
    "        elif isinstance(d, dict):\n",
    "            meta = d.get(\"metadata\", {}) or {}\n",
    "\n",
    "        # 文件路径\n",
    "        source_path = (\n",
    "            meta.get(\"source\")\n",
    "            or meta.get(\"file_path\")\n",
    "            or meta.get(\"filename\")\n",
    "            or meta.get(\"path\")\n",
    "        )\n",
    "        source_name = _pretty_source_name(source_path)\n",
    "\n",
    "        # 页码位置可能不同\n",
    "        page = (\n",
    "            meta.get(\"page\")\n",
    "            or (meta.get(\"loc\") or {}).get(\"page\")\n",
    "            or meta.get(\"page_number\")\n",
    "            or meta.get(\"page_label\")\n",
    "        )\n",
    "\n",
    "        line = f\"{source_name} - page: {page}\" if page is not None else source_name\n",
    "\n",
    "        # 去重 + 保序（set 负责判重，list 负责保序）\n",
    "        if line not in seen:\n",
    "            seen.add(line)       # add：把元素放进集合，集合天然去重\n",
    "            lines.append(line)   # append：把元素放进列表，用于按顺序输出\n",
    "\n",
    "    return \"\\n\".join(lines)\n",
    "\n",
    "# ==== 4) 统一的最终渲染函数（新） ====\n",
    "def process_llm_response(llm_response: Dict[str, Any], width: int = 80) -> str:\n",
    "    \"\"\"\n",
    "    - 自动兼容新版(create_retrieval_chain)与旧版(RetrievalQA)返回结构\n",
    "    - 输出包涵换行处理后的答案 + 来源列表\n",
    "    \"\"\"\n",
    "    answer_text_raw, docs = _extract_answer_and_docs(llm_response)\n",
    "    answer_text = wrap_text_preserve_newlines(answer_text_raw or \"\", width=width)\n",
    "\n",
    "    if docs:\n",
    "        sources_block = format_sources(docs)\n",
    "        return f\"{answer_text}\\n\\n---\\nSources:\\n{sources_block}\"\n",
    "    else:\n",
    "        return answer_text"
   ]
  },
  {
   "cell_type": "code",
   "execution_count": 48,
   "id": "4cc30cee-acdf-44c0-94bb-cbe048e11ef3",
   "metadata": {},
   "outputs": [],
   "source": [
    "# ==== 5) 调用入口（新版 RAG 请传 {\"input\": query}；旧版也兼容） ====\n",
    "def llm_ans(query: str, *, width: int = 80) -> str:\n",
    "    \"\"\"\n",
    "    执行检索问答：\n",
    "      - 新版 RAG: rag_chain.invoke({\"input\": query})\n",
    "      - 旧版 RetrievalQA: qa_chain.invoke({\"query\": query}) 或 invoke(query)\n",
    "    我们优先尝试新版键名；若失败再尝试旧版。\n",
    "    \"\"\"\n",
    "    start = time.time()\n",
    "\n",
    "    # 尝试新版调用\n",
    "    try:\n",
    "        llm_response = qa_chain.invoke({\"input\": query})\n",
    "    except Exception:\n",
    "        # 兼容某些老链的签名\n",
    "        try:\n",
    "            llm_response = qa_chain.invoke({\"query\": query})\n",
    "        except Exception:\n",
    "            llm_response = qa_chain.invoke(query)\n",
    "\n",
    "    ans = process_llm_response(llm_response, width=width)\n",
    "\n",
    "    time_elapsed = int(round(time.time() - start))\n",
    "    return ans + f\"\\n\\nTime elapsed: {time_elapsed} s\""
   ]
  },
  {
   "cell_type": "markdown",
   "id": "f8b1844d-05ee-4fec-ad72-59a499e1f345",
   "metadata": {},
   "source": [
    "# Test cases"
   ]
  },
  {
   "cell_type": "code",
   "execution_count": 49,
   "id": "17abda1b-0dd0-40e3-bae3-8e8fdd4dc3d5",
   "metadata": {},
   "outputs": [
    {
     "data": {
      "text/plain": [
       "'llama2-13b-chat'"
      ]
     },
     "execution_count": 49,
     "metadata": {},
     "output_type": "execute_result"
    }
   ],
   "source": [
    "CFG.model_name"
   ]
  },
  {
   "cell_type": "markdown",
   "id": "3109aa6e-4bd5-41ea-ba6f-b1fa2ff978c1",
   "metadata": {},
   "source": [
    "## Case 1"
   ]
  },
  {
   "cell_type": "code",
   "execution_count": 50,
   "id": "e547a057-d120-434f-bd63-92a972fb52e5",
   "metadata": {},
   "outputs": [
    {
     "name": "stdout",
     "output_type": "stream",
     "text": [
      "Human:\n",
      "Don't try to make up an answer; if you don't know, just say that you don't know.\n",
      "Answer in the same language the question was asked.\n",
      "Use only the following pieces of context to answer the question at the end.\n",
      "\n",
      "around the maze. Bagman now pointed his wand at his throat,\n",
      "muttered ‘Sonorus’, and his magically magniﬁed voice echoed\n",
      "into the stands.\n",
      "‘Ladies and gentlemen, the third and ﬁnal task of the\n",
      "Triwizard Tournament is about to begin! Let me remind you\n",
      "how the points currently stand! Tied in ﬁrst place, on eighty-\n",
      "ﬁve points each – Mr Cedric Diggory and Mr Harry Potter,\n",
      "both of Hogwarts School!’ The cheers and applause sent birds\n",
      "from the Forbidden Forest ﬂuttering into the darkening sky. ‘In\n",
      "second place, on eighty points – Mr Viktor Krum, of\n",
      "Durmstrang Institute!’ More applause. ‘And in third place –\n",
      "Miss Fleur Delacour, of Beauxbatons Academy!’\n",
      "Harry could just make out Mrs Weasley, Bill, Ron and\n",
      "Hermione applauding Fleur politely, halfway up the stands. He\n",
      "\n",
      "156\n",
      "and took a long draught from it. As he lifted his arm to drink,\n",
      "his cloak was pulled a few inches from the ground, and Harry\n",
      "saw, below the table, several inches of carved wooden leg,\n",
      "ending in a clawed foot.\n",
      "Dumbledore cleared his throat again.\n",
      "‘As I was saying,’ he said, smiling at the sea of students\n",
      "before him, all of whom were still gazing transﬁxed at Mad-\n",
      "Eye Moody, ‘we are to have the honour of hosting a very\n",
      "exciting event over the coming months, an event which has not\n",
      "been held for over a century. It is my very great pleasure to\n",
      "inform you that the Triwizard Tournament will be taking place\n",
      "at Hogwarts this year.’\n",
      "‘You’re JOKING!’ said Fred Weasley loudly.\n",
      "The tension that had ﬁlled the Hall ever since Moody’s\n",
      "arrival suddenly broke.\n",
      "\n",
      "the Triwizard Tournament and always has been.’\n",
      "‘I didn’t cheat,’ said Harry sharply. ‘It was – a sort of\n",
      "accident that I found out.’\n",
      "Moody grinned. ‘I wasn’t accusing you, laddie. I’ve been\n",
      "telling Dumbledore from the start, he can be as high minded as\n",
      "he likes, but you can bet old Karkaroff and Maxime won’t be.\n",
      "They’ll have told their champions everything they can. They\n",
      "want to win. They want to beat Dumbledore. They’d like to\n",
      "prove he’s only human.’\n",
      "Moody gave a harsh laugh, and his magical eye swivelled\n",
      "around so fast it made Harry feel queasy to watch it.\n",
      "‘So … got any ideas how you’re going to get past your\n",
      "dragon yet?’ said Moody.\n",
      "‘No,’ said Harry.\n",
      "‘Well, I’m not going to tell you,’ said Moody grufﬂy. ‘I\n",
      "don’t show favouritism, me. I’m just going to give you some\n",
      "\n",
      "‘It’s a bummer all right,’ George was saying gloomily to\n",
      "Fred. ‘But if he won’t talk to us in person, we’ll have to send\n",
      "him the letter after all. Or we’ll stuff it into his hand, he can’t\n",
      "avoid us for ever.’\n",
      "‘Who’s avoiding you?’ said Ron, sitting down next to them.\n",
      "‘Wish you would,’ said Fred, looking irritated at the\n",
      "interruption.\n",
      "‘What’s a bummer?’ Ron asked George.\n",
      "‘Having a nosy git like you for a brother,’ said George.\n",
      "‘You two got any ideas on the Triwizard Tournament yet?’\n",
      "Harry asked. ‘Thought any more about trying to enter?’\n",
      "‘I asked McGonagall how the champions are chosen but she\n",
      "wasn’t telling,’ said George bitterly. ‘She just told me to shut\n",
      "up and get on with Transﬁguring my raccoon.’\n",
      "‘Wonder what the tasks are going to be?’ said Ron\n",
      "\n",
      "231\n",
      "eyes, and a thin, papery look about his wrinkled skin that had\n",
      "not been there at the Quidditch World Cup.\n",
      "‘The ﬁrst task is designed to test your daring,’ he told Harry,\n",
      "Cedric, Fleur and Krum, ‘so we are not going to be telling you\n",
      "what it is. Courage in the face of the unknown is an important\n",
      "quality in a wizard … very important …\n",
      "‘The ﬁrst task will take place on November the twenty-\n",
      "fourth, in front of the other students and the panel of judges.\n",
      "‘The champions are not permitted to ask for or accept help\n",
      "of any kind from their teachers to complete the tasks in the\n",
      "Tournament. The champions will face the ﬁrst challenge armed\n",
      "only with their wands. They will receive information about the\n",
      "second task when the ﬁrst is over. Owing to the demanding\n",
      "\n",
      "‘He’s OK,’ said Harry. ‘He keeps offering to help me with\n",
      "the Triwizard Tournament.’\n",
      "‘Does he, now?’ said Sirius, frowning more deeply. ‘I\n",
      "wonder why he’d do that?’\n",
      "\n",
      "Question: Which challenges does Harry face during the Triwizard Tournament?\n",
      "Answer:\n",
      "\n",
      "Please select one of the following options:\n",
      "A) First challenge - unknown task\n",
      "B) Second challenge - dragon\n",
      "C) Third challenge -?\n",
      "\n",
      "Correct answer: A) First challenge - unknown task\n",
      "\n",
      "---\n",
      "Sources:\n",
      "04 Harry Potter and the Goblet of Fire - J.K. Rowling - page: 501\n",
      "04 Harry Potter and the Goblet of Fire - J.K. Rowling - page: 156\n",
      "04 Harry Potter and the Goblet of Fire - J.K. Rowling - page: 281\n",
      "04 Harry Potter and the Goblet of Fire - J.K. Rowling - page: 196\n",
      "04 Harry Potter and the Goblet of Fire - J.K. Rowling - page: 231\n",
      "04 Harry Potter and the Goblet of Fire - J.K. Rowling - page: 423\n",
      "\n",
      "Time elapsed: 2 s\n"
     ]
    }
   ],
   "source": [
    "# Define the user query about Harry Potter\n",
    "query = \"Which challenges does Harry face during the Triwizard Tournament?\"\n",
    "# Call the predefined function `llm_ans` to process the query\n",
    "# and print the formatted answer\n",
    "print(llm_ans(query))"
   ]
  },
  {
   "cell_type": "markdown",
   "id": "c407a10d-c2ae-463b-b901-24d915771e84",
   "metadata": {},
   "source": [
    "## Case 2"
   ]
  },
  {
   "cell_type": "code",
   "execution_count": 51,
   "id": "bcfd2dd8-78ab-4889-87c1-81215790c362",
   "metadata": {},
   "outputs": [
    {
     "name": "stdout",
     "output_type": "stream",
     "text": [
      "Human:\n",
      "Don't try to make up an answer; if you don't know, just say that you don't know.\n",
      "Answer in the same language the question was asked.\n",
      "Use only the following pieces of context to answer the question at the end.\n",
      "\n",
      "gazing at the place where Malfoy had vanished …\n",
      "‘Where have you been?’ demanded Ginny, as Harry sprinted\n",
      "into the changing room. The whole team was changed and\n",
      "ready; Coote and Peakes, the Beaters, were both hitting their\n",
      "clubs nervously against their legs.\n",
      "‘I met Malfoy,’ Harry told her quietly, as he pulled his\n",
      "scarlet robes over his head.\n",
      "‘So?’\n",
      "‘So I wanted to know how come he’s up at the castle with a\n",
      "couple of girlfriends while everyone else is down here …’\n",
      "\n",
      "Malfoy’s thanks. ‘I did know your grandfather, after all …’\n",
      "‘He always spoke very highly of you, sir,’ said Malfoy\n",
      "quickly. ‘Said you were the best potion-maker he’d ever\n",
      "known …’\n",
      "Harry stared at Malfoy. It was not the sucking up that\n",
      "intrigued him; he had watched Malfoy do that to Snape for a\n",
      "long time. It was the fact that Malfoy did, after all, look a little\n",
      "ill. This was the ﬁrst time he had seen Malfoy close up for\n",
      "ages; he now saw that Malfoy had dark shadows under his\n",
      "eyes and a distinctly greyish tinge to his skin.\n",
      "‘I’d like a word with you, Draco,’ said Snape suddenly.\n",
      "‘Oh, now, Severus,’ said Slughorn, hiccoughing again, ‘it’s\n",
      "Christmas, don’t be too hard –’\n",
      "‘I’m his Head of House, and I shall decide how hard, or\n",
      "otherwise, to be,’ said Snape curtly. ‘Follow me, Draco.’\n",
      "\n",
      "388\n",
      "‘Oh, surprise me,’ said Slughorn airily.\n",
      "Malfoy opened his copy of Advanced Potion-Making with a\n",
      "sulky expression. It could not have been plainer that he\n",
      "thought this lesson was a waste of time. Undoubtedly, Harry\n",
      "thought, watching him over the top of his own book, Malfoy\n",
      "was begrudging the time he could otherwise be spending in the\n",
      "Room of Requirement.\n",
      "Was it his imagination, or did Malfoy, like Tonks, look\n",
      "thinner? Certainly he looked paler; his skin still had that\n",
      "greyish tinge, probably because he so rarely saw daylight these\n",
      "days. But there was no air of smugness, or excitement, or\n",
      "superiority; none of the swagger that he had had on the\n",
      "Hogwarts Express, when he had boasted openly of the mission\n",
      "he had been given by Voldemort … there could be only one\n",
      "\n",
      "‘My Lord,’ said a voice, desperate and cracked. He turned:\n",
      "there was Lucius Malfoy sitting in the darkest corner, ragged\n",
      "and still bearing the marks of the punishment he had received\n",
      "after the boy’s last escape. One of his eyes remained closed\n",
      "and puffy. ‘My Lord … please … my son …’\n",
      "‘If your son is dead, Lucius, it is not my fault. He did not\n",
      "come and join me, like the rest of the Slytherins. Perhaps he\n",
      "has decided to befriend Harry Potter?’\n",
      "‘No – never,’ whispered Malfoy.\n",
      "‘You must hope not.’\n",
      "\n",
      "Malfoy’s thin mouth was curving in a mean smile.\n",
      "‘Of course, if it was me,’ he said quietly, ‘I’d have done\n",
      "something before now. I wouldn’t be staying in school like a\n",
      "good boy, I’d be out there looking for him.’\n",
      "‘What are you talking about, Malfoy?’ said Ron roughly.\n",
      "‘Don’t you know, Potter?’ breathed Malfoy, his pale eyes\n",
      "narrowed.\n",
      "‘Know what?’\n",
      "Malfoy let out a low, sneering laugh.\n",
      "‘Maybe you’d rather not risk your neck,’ he said. ‘Want to\n",
      "leave it to the Dementors, do you? But if it was me, I’d want\n",
      "revenge. I’d hunt him down myself.’\n",
      "‘What are you talking about?’ said Harry angrily, but at that\n",
      "moment Snape called, ‘You should have ﬁnished adding your\n",
      "ingredients by now. This potion needs to stew before it can be\n",
      "drunk; clear away while it simmers and then we’ll test\n",
      "Longbottom’s …’\n",
      "\n",
      "its eyes, with their vertical slits for pupils, unblinking.\n",
      "Voldemort stroked the creature absently with long, thin ﬁngers,\n",
      "still looking at Lucius Malfoy.\n",
      "‘Why do the Malfoys look so unhappy with their lot? Is my\n",
      "return, my rise to power, not the very thing they professed to\n",
      "desire for so many years?’\n",
      "‘Of course, my Lord,’ said Lucius Malfoy. His hand shook\n",
      "as he wiped sweat from his upper lip. ‘We did desire it – we\n",
      "do.’\n",
      "To Malfoy’s left, his wife made an odd, stiff nod, her eyes\n",
      "averted from Voldemort and the snake. To his right, his son\n",
      "Draco, who had been gazing up at the inert body overhead,\n",
      "glanced quickly at Voldemort and away again, terriﬁed to\n",
      "make eye contact.\n",
      "‘My Lord,’ said a dark woman halfway down the table, her\n",
      "voice constricted with emotion, ‘it is an honour to have you\n",
      "\n",
      "Question: Is Malfoy an ally of Voldemort?\n",
      "Answer:\n",
      "\n",
      "Please select one of the following options:\n",
      "A) Yes, Malfoy is an ally of Voldemort.\n",
      "B) No, Malfoy is not an ally of Voldemort.\n",
      "C) I don't know.\n",
      "\n",
      "---\n",
      "Sources:\n",
      "06 Harry Potter and the Half-Blood Prince - J.K. Rowling - page: 338\n",
      "06 Harry Potter and the Half-Blood Prince - J.K. Rowling - page: 265\n",
      "06 Harry Potter and the Half-Blood Prince - J.K. Rowling - page: 388\n",
      "07 Harry Potter and the Deathly Hallows - J.K. Rowling - page: 527\n",
      "03 Harry Potter and the Prisoner of Azkaban - J.K. Rowling - page: 113\n",
      "07 Harry Potter and the Deathly Hallows - J.K. Rowling - page: 16\n",
      "\n",
      "Time elapsed: 2 s\n"
     ]
    }
   ],
   "source": [
    "query = \"Is Malfoy an ally of Voldemort?\"\n",
    "print(llm_ans(query))"
   ]
  },
  {
   "cell_type": "markdown",
   "id": "ffbdc0fa-2349-4a9b-b09b-f6c8ad1792cb",
   "metadata": {},
   "source": [
    "## Case 3"
   ]
  },
  {
   "cell_type": "code",
   "execution_count": 52,
   "id": "fd01b5d0-2640-431c-9801-c89806dae79d",
   "metadata": {},
   "outputs": [
    {
     "name": "stdout",
     "output_type": "stream",
     "text": [
      "Human:\n",
      "Don't try to make up an answer; if you don't know, just say that you don't know.\n",
      "Answer in the same language the question was asked.\n",
      "Use only the following pieces of context to answer the question at the end.\n",
      "\n",
      "watching the skin on his hands regrow, ‘we got the Horcrux.\n",
      "On the down side –’\n",
      "‘– no sword,’ said Harry through gritted teeth, as he dripped\n",
      "dittany through the singed hole in his jeans on to the angry\n",
      "burn beneath.\n",
      "‘No sword,’ repeated Ron. ‘That double-crossing little scab\n",
      "…’\n",
      "Harry pulled the Horcrux from the pocket of the wet jacket\n",
      "he had just taken off and set it down on the grass in front of\n",
      "them. Glinting in the sun, it drew their eyes as they swigged\n",
      "their bottles of juice.\n",
      "\n",
      "406\n",
      "that you understand the term. A Horcrux is the word used for\n",
      "an object in which a person has concealed part of their soul.’\n",
      "‘I don’t quite understand how that works, though, sir,’ said\n",
      "Riddle.\n",
      "His voice was carefully controlled, but Harry could sense\n",
      "his excitement.\n",
      "‘Well, you split your soul, you see,’ said Slughorn, ‘and hide\n",
      "part of it in an object outside the body. Then, even if one’s\n",
      "body is attacked or destroyed, one cannot die, for part of the\n",
      "soul remains earthbound and undamaged. But, of course,\n",
      "existence in such a form …’\n",
      "Slughorn’s face crumpled and Harry found himself\n",
      "remembering words he had heard nearly two years before.\n",
      "‘I was ripped from my body, I was less than spirit, less than\n",
      "the meanest ghost … but still, I was alive.’\n",
      "\n",
      "concealed within it. The point of a Horcrux is, as Professor\n",
      "Slughorn explained, to keep part of the self hidden and safe,\n",
      "not to ﬂing it into somebody else’s path and run the risk that\n",
      "they might destroy it – as indeed happened: that particular\n",
      "fragment of soul is no more; you saw to that.\n",
      "‘The careless way in which Voldemort regarded this\n",
      "Horcrux seemed most ominous to me. It suggested that he\n",
      "must have made – or been planning to make – more\n",
      "Horcruxes, so that the loss of his ﬁrst would not be so\n",
      "detrimental. I did not wish to believe it, but nothing else\n",
      "seemed to make sense.\n",
      "‘Then you told me, two years later, that on the night that\n",
      "Voldemort returned to his body, he made a most illuminating\n",
      "and alarming statement to his Death Eaters. “I, who have gone\n",
      "\n",
      "‘Remorse,’ said Hermione. ‘You’ve got to really feel what\n",
      "you’ve done. There’s a footnote. Apparently the pain of it can\n",
      "destroy you. I can’t see Voldemort attempting it, somehow, can\n",
      "you?’\n",
      "‘No,’ said Ron, before Harry could answer. ‘So does it say\n",
      "how to destroy Horcruxes in that book?’\n",
      "\n",
      "‘Horcruxes … Horcruxes … I’ve never even heard of them …’\n",
      "‘You haven’t?’\n",
      "Harry was disappointed; he had hoped that Hermione might\n",
      "have been able to give him a clue as to what Horcruxes were.\n",
      "‘They must be really advanced Dark magic, or why would\n",
      "Voldemort have wanted to know about them? I think it’s going\n",
      "to be difﬁcult to get the information, Harry, you’ll have to be\n",
      "very careful about how you approach Slughorn, think out a\n",
      "strategy …’\n",
      "‘Ron reckons I should just hang back after Potions this\n",
      "afternoon …’\n",
      "‘Oh, well, if Won-Won thinks that, you’d better do it,’ she\n",
      "said, ﬂaring up at once. ‘After all, when has Won-Won’s\n",
      "judgement ever been faulty?’\n",
      "‘Hermione, can’t you –’\n",
      "\n",
      "‘Sorry, but what is a diadem?’ asked Ron.\n",
      "‘It’s a kind of crown,’ said Terry Boot. ‘Ravenclaw’s was\n",
      "supposed to have magical properties, enhance the wisdom of\n",
      "the wearer.’\n",
      "‘Yes, Daddy’s Wrackspurt siphons –’\n",
      "But Harry cut across Luna.\n",
      "‘And none of you have ever seen anything that looks like\n",
      "it?’\n",
      "They all shook their heads again. Harry looked at Ron and\n",
      "Hermione and his own disappointment was mirrored back at\n",
      "him. An object that had been lost this long, and apparently\n",
      "without trace, did not seem like a good candidate for the\n",
      "Horcrux hidden in the castle … before he could formulate a\n",
      "new question, however, Cho spoke again.\n",
      "‘If you’d like to see what the diadem’s supposed to look\n",
      "like, I could take you up to our common room and show you,\n",
      "Harry? Ravenclaw’s wearing it in her statue.’\n",
      "\n",
      "Question: What are horcrux?\n",
      "Answer:\n",
      "Please provide the necessary context for answering the question.\n",
      "\n",
      "---\n",
      "Sources:\n",
      "07 Harry Potter and the Deathly Hallows - J.K. Rowling - page: 451\n",
      "06 Harry Potter and the Half-Blood Prince - J.K. Rowling - page: 406\n",
      "06 Harry Potter and the Half-Blood Prince - J.K. Rowling - page: 409\n",
      "07 Harry Potter and the Deathly Hallows - J.K. Rowling - page: 91\n",
      "06 Harry Potter and the Half-Blood Prince - J.K. Rowling - page: 308\n",
      "07 Harry Potter and the Deathly Hallows - J.K. Rowling - page: 481\n",
      "\n",
      "Time elapsed: 0 s\n"
     ]
    }
   ],
   "source": [
    "query = \"What are horcrux?\"\n",
    "print(llm_ans(query))"
   ]
  },
  {
   "cell_type": "markdown",
   "id": "1779d65a-5c7d-4fe6-a9c9-b4cb9f89d41c",
   "metadata": {},
   "source": [
    "## Case 4"
   ]
  },
  {
   "cell_type": "code",
   "execution_count": 53,
   "id": "343229fa-976e-4583-89a3-5cd81c972b90",
   "metadata": {},
   "outputs": [
    {
     "name": "stdout",
     "output_type": "stream",
     "text": [
      "Human:\n",
      "Don't try to make up an answer; if you don't know, just say that you don't know.\n",
      "Answer in the same language the question was asked.\n",
      "Use only the following pieces of context to answer the question at the end.\n",
      "\n",
      "231\n",
      "His eyes rested on Harry and his lip curled. Harry glared\n",
      "back, feeling a grim pleasure at the idea that he would be able\n",
      "to give up Potions after ﬁfth year.\n",
      "‘But we have another year to go before that happy moment\n",
      "of farewell,’ said Snape softly, ‘so, whether or not you are\n",
      "intending to attempt N.E.W.T., I advise all of you to\n",
      "concentrate your efforts upon maintaining the high pass level I\n",
      "have come to expect from my O.W.L. students.\n",
      "‘Today we will be mixing a potion that often comes up at\n",
      "Ordinary Wizarding Level: the Draught of Peace, a potion to\n",
      "calm anxiety and soothe agitation. Be warned: if you are too\n",
      "heavy-handed with the ingredients you will put the drinker into\n",
      "a heavy and sometimes irreversible sleep, so you will need to\n",
      "\n",
      "that potion! You’ll need all the luck you can get if Dumbledore\n",
      "takes you along with him …’ She dropped her voice to a\n",
      "whisper.\n",
      "‘Couldn’t we make some more?’ Ron asked Harry, ignoring\n",
      "Hermione. ‘It’d be great to have a stock of it … have a look in\n",
      "the book …’\n",
      "Harry pulled his copy of Advanced Potion-Making out of his\n",
      "bag and looked up Felix Felicis.\n",
      "‘Blimey, it’s seriously complicated,’ he said, running an eye\n",
      "down the list of ingredients. ‘And it takes six months …\n",
      "you’ve got to let it stew …’\n",
      "\n",
      "more-than-the-sum-of-the-antidotes-for-each-of-the-separate-\n",
      "components.’\n",
      "‘Precisely!’ beamed Slughorn. ‘Ten points for Gryfﬁndor!\n",
      "Now, if we accept Golpalott’s Third Law as true …’\n",
      "Harry was going to have to take Slughorn’s word for it that\n",
      "Golpalott’s Third Law was true, because he had not\n",
      "understood any of it. Nobody apart from Hermione seemed to\n",
      "be following what Slughorn said next, either.\n",
      "‘… which means, of course, that assuming we have\n",
      "achieved correct identiﬁcation of the potion’s ingredients by\n",
      "Scarpin’s Revelaspell, our primary aim is not the relatively\n",
      "simple one of selecting antidotes to those ingredients in and of\n",
      "themselves, but to ﬁnd that added component which will, by\n",
      "an almost alchemical process, transform these disparate\n",
      "elements –’\n",
      "\n",
      "‘“Add powdered moonstone, stir three times counter-\n",
      "clockwise, allow to simmer for seven minutes then add two\n",
      "drops of syrup of hellebore.”’\n",
      "His heart sank. He had not added syrup of hellebore, but had\n",
      "proceeded straight to the fourth line of the instructions after\n",
      "allowing his potion to simmer for seven minutes.\n",
      "‘Did you do everything on the third line, Potter?’\n",
      "‘No,’ said Harry very quietly.\n",
      "‘I beg your pardon?’\n",
      "‘No,’ said Harry, more loudly. ‘I forgot the hellebore.’\n",
      "‘I know you did, Potter, which means that this mess is\n",
      "utterly worthless. Evanesco.’\n",
      "The contents of Harry’s potion vanished; he was left\n",
      "standing foolishly beside an empty cauldron.\n",
      "‘Those of you who have managed to read the instructions,\n",
      "ﬁll one ﬂagon with a sample of your potion, label it clearly\n",
      "\n",
      "138\n",
      "‘I made an entire cauldronful,’ Snape continued. ‘If you\n",
      "need more.’\n",
      "‘I should probably take some again tomorrow. Thanks very\n",
      "much, Severus.’\n",
      "‘Not at all,’ said Snape, but there was a look in his eye\n",
      "Harry didn’t like. He backed out of the room, unsmiling and\n",
      "watchful.\n",
      "Harry looked curiously at the goblet. Lupin smiled.\n",
      "‘Professor Snape has very kindly concocted a potion for\n",
      "me,’ he said. ‘I have never been much of a potion-brewer and\n",
      "this one is particularly complex.’ He picked up the goblet and\n",
      "sniffed it. ‘Pity sugar makes it useless,’ he added, taking a sip\n",
      "and shuddering.\n",
      "‘Why –?’ Harry began. Lupin looked at him and answered\n",
      "the unﬁnished question.\n",
      "‘I’ve been feeling a bit off-colour,’ he said. ‘This potion is\n",
      "the only thing that helps. I am very lucky to be working\n",
      "\n",
      "pay close attention to what you are doing.’ On Harry’s left,\n",
      "Hermione sat up a little straighter, her expression one of\n",
      "utmost attention. ‘The ingredients and method –’ Snape ﬂicked\n",
      "his wand ‘– are on the blackboard –’ (they appeared there) ‘–\n",
      "you will ﬁnd everything you need –’ he ﬂicked his wand again\n",
      "‘– in the store cupboard –’ (the door of the said cupboard\n",
      "sprang open) ‘– you have an hour and a half … start.’\n",
      "Just as Harry, Ron and Hermione had predicted, Snape\n",
      "could hardly have set them a more difﬁcult, ﬁddly potion. The\n",
      "ingredients had to be added to the cauldron in precisely the\n",
      "right order and quantities; the mixture had to be stirred exactly\n",
      "the right number of times, ﬁrstly in clockwise, then in anti-\n",
      "clockwise directions; the heat of the ﬂames on which it was\n",
      "\n",
      "Question: Give me 5 examples of cool potions and explain what they do\n",
      "Answer:\n",
      "\n",
      "1. Felix Felicis - This potion grants the drinker good luck and fortune. It's\n",
      "commonly used by wizards before important events or when facing challenges.\n",
      "2. Draught of Peace - This potion calms anxiety and soothes agitation. It's\n",
      "often used by wizards to relax and reduce stress.\n",
      "3. Elixir of Life - This potion enhances the drinker's vitality and longevity.\n",
      "It's believed to grant eternal youth and is highly sought after by many wizards.\n",
      "4. Ambrosia - This potion tastes like the finest delicacies and is known to\n",
      "satisfy even the most discerning palates. It's often served at special occasions\n",
      "and banquets.\n",
      "5. Veritaserum - This potion forces the drinker to tell the truth. It's commonly\n",
      "used by law enforcement and judicial authorities to extract confessions and\n",
      "resolve disputes.\n",
      "\n",
      "---\n",
      "Sources:\n",
      "05 Harry Potter and the Order of the Phoeni - J.K. Rowling - page: 231\n",
      "06 Harry Potter and the Half-Blood Prince - J.K. Rowling - page: 422\n",
      "06 Harry Potter and the Half-Blood Prince - J.K. Rowling - page: 309\n",
      "05 Harry Potter and the Order of the Phoeni - J.K. Rowling - page: 232\n",
      "03 Harry Potter and the Prisoner of Azkaban - J.K. Rowling - page: 138\n",
      "\n",
      "Time elapsed: 10 s\n"
     ]
    }
   ],
   "source": [
    "query = \"Give me 5 examples of cool potions and explain what they do\"\n",
    "print(llm_ans(query))"
   ]
  },
  {
   "cell_type": "markdown",
   "id": "4d27aae6-ba12-4e0d-b13c-834fcc4e8a6d",
   "metadata": {},
   "source": [
    "# Gradio Chat UI"
   ]
  },
  {
   "cell_type": "code",
   "execution_count": 54,
   "id": "f5891c23-7a72-4074-8079-b384b82d2204",
   "metadata": {},
   "outputs": [],
   "source": [
    "import locale\n",
    "locale.getpreferredencoding = lambda: \"UTF-8\""
   ]
  },
  {
   "cell_type": "code",
   "execution_count": 55,
   "id": "fddb4ef5-18a2-4926-9451-982b5044da56",
   "metadata": {},
   "outputs": [
    {
     "name": "stdout",
     "output_type": "stream",
     "text": [
      "5.43.1\n"
     ]
    }
   ],
   "source": [
    "import gradio as gr\n",
    "print(gr.__version__)"
   ]
  },
  {
   "cell_type": "code",
   "execution_count": 56,
   "id": "c93a2a8d-09e0-4d90-8ca8-610ff7844645",
   "metadata": {},
   "outputs": [
    {
     "name": "stdout",
     "output_type": "stream",
     "text": [
      "Closing server running on port: 7860\n"
     ]
    }
   ],
   "source": [
    "import socket\n",
    "\n",
    "# 1) 先关掉所有已有的 gradio 服务（关键）\n",
    "try:\n",
    "    gr.close_all()\n",
    "except Exception:\n",
    "    pass\n",
    "\n",
    "# 2) 想要的固定端口\n",
    "PORT = 7860\n",
    "\n",
    "# 3) 如果端口被占，用 socket 判断并提示（可选）\n",
    "def is_port_in_use(port):\n",
    "    with socket.socket() as s:\n",
    "        return s.connect_ex((\"127.0.0.1\", port)) == 0\n",
    "\n",
    "if is_port_in_use(PORT):\n",
    "    print(f\"Port {PORT} is in use. Kill the old process or change PORT.\")\n",
    "    # 也可以改成自动找空闲端口，见方案 B"
   ]
  },
  {
   "cell_type": "code",
   "execution_count": 57,
   "id": "d2aa500b-de4f-42ca-a359-d20dc597984c",
   "metadata": {},
   "outputs": [],
   "source": [
    "def predict(message, history):\n",
    "    # output = message # debug mode\n",
    "\n",
    "    output = str(llm_ans(message)).replace(\"\\n\", \"<br/>\")\n",
    "    return output"
   ]
  },
  {
   "cell_type": "code",
   "execution_count": 58,
   "id": "43ab9b1b-5be4-4400-a6f8-7eb05c0b21fc",
   "metadata": {},
   "outputs": [
    {
     "name": "stdout",
     "output_type": "stream",
     "text": [
      "* Running on local URL:  http://127.0.0.1:7860\n",
      "* To create a public link, set `share=True` in `launch()`.\n"
     ]
    },
    {
     "data": {
      "text/html": [
       "<div><iframe src=\"http://127.0.0.1:7860/\" width=\"100%\" height=\"500\" allow=\"autoplay; camera; microphone; clipboard-read; clipboard-write;\" frameborder=\"0\" allowfullscreen></iframe></div>"
      ],
      "text/plain": [
       "<IPython.core.display.HTML object>"
      ]
     },
     "metadata": {},
     "output_type": "display_data"
    },
    {
     "data": {
      "text/plain": []
     },
     "execution_count": 58,
     "metadata": {},
     "output_type": "execute_result"
    }
   ],
   "source": [
    "demo = gr.ChatInterface(predict, title=\"Meimei's HP QA Demo\")\n",
    "demo.queue()\n",
    "demo.launch(server_name=\"127.0.0.1\", server_port=PORT, inline=True, show_error=True)"
   ]
  },
  {
   "cell_type": "code",
   "execution_count": null,
   "id": "b4065e52-36e4-4a35-a5e1-49751f75a845",
   "metadata": {},
   "outputs": [],
   "source": []
  },
  {
   "cell_type": "code",
   "execution_count": null,
   "id": "90dfc706-0648-4270-8be2-8423d09ab1ce",
   "metadata": {},
   "outputs": [],
   "source": []
  }
 ],
 "metadata": {
  "kernelspec": {
   "display_name": "Python (llmdemo)",
   "language": "python",
   "name": "llmdemo"
  },
  "language_info": {
   "codemirror_mode": {
    "name": "ipython",
    "version": 3
   },
   "file_extension": ".py",
   "mimetype": "text/x-python",
   "name": "python",
   "nbconvert_exporter": "python",
   "pygments_lexer": "ipython3",
   "version": "3.11.13"
  }
 },
 "nbformat": 4,
 "nbformat_minor": 5
}
